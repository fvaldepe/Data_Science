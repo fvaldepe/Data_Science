{
 "cells": [
  {
   "cell_type": "markdown",
   "id": "6f8fab58-50a6-4c58-a37e-30af70f4bb40",
   "metadata": {},
   "source": [
    "# ADIDAS Sales Analysis"
   ]
  },
  {
   "cell_type": "markdown",
   "id": "40cbe0f4-8c80-4b32-b6de-b80aa0b1f6a3",
   "metadata": {},
   "source": [
    "## 1.- DESCRIPCION GENERAL DEL PROYECTO:\n",
    "\n",
    "- Titulo: ADIDAS Sales Analysis\n",
    "  \n",
    "- Objetivo: proporcionar un análisis del desempeño de las ventas y la presencia en el mercado US, de la marca Adidas.\n",
    "  \n",
    "- Conjunto de datos: Utilizando un conjunto de datos, el proyecto explora varias facetas del negocio, incluidas las tendencias de ventas, la popularidad del producto, el desempeño del mercado regional y más.\n",
    "\n",
    "- Miembros del equipo: el responsable de este Informe de este informe es Fernando Valdepeñas Isidro (FVI), quien se ha encargado de la limpieza, modelado, visualización y análisis de los resultados."
   ]
  },
  {
   "cell_type": "markdown",
   "id": "8d4c5437-7ae6-425a-83ee-f967476b919c",
   "metadata": {},
   "source": [
    "## 2.- DESCRIPCION GENERAL DE DATOS DE PARTIDA:\n",
    "\n",
    "- Fuente de datos: para este proyecto, utilizamos el \"Conjunto de datos de ventas de Adidas\" de Kaggle (https://github.com/prayagpadwal/Adidas-Sales-Analysis), en formato XLSX\n",
    "\n",
    "- Tamaño de datos: el conjunto se compone de 9.648 registros con 13 variables, con un tamaño de 673 KB\n",
    "\n",
    "- Breve descripción de los datos: inicialmente no hay campos con valores nulos ni vacios, la variable con formato fecha es correcto, comprendida entre año 2020 - 2021, y las variables de tipo numérico se encuentran establecido correctamente.."
   ]
  },
  {
   "cell_type": "markdown",
   "id": "b792bd42-63be-477c-8f76-aca03c834409",
   "metadata": {},
   "source": [
    "- 1.- Retailer: vendedor\n",
    "- 2.- Retailer ID: id vendedor\n",
    "- 3.- Invoice Date: fecha venta\n",
    "- 4.- Region: Geographic areas like West, Northeast, Southeast, South, and Mid-west\n",
    "- 5.- State: estado\n",
    "- 6.- City: ciudad\n",
    "- 7.- Product: Categories like Men’s and Women’s Street and Athletic Footwear, and Apparel.\n",
    "- 8.- Price per Unit: The cost of a single item of a specific product.\n",
    "- 9.- Units Sold: The quantity of a product sold in a specific timeframe.\n",
    "- 10.- Total Sales: The total revenue from sales over a certain period.\n",
    "- 11.- Operating Profit: A measure of the profitability from the main business operations.\n",
    "- 12.- Operating Margin: A ratio indicating the profitability of the business operations.\n",
    "- 13.- Sales Method: The channels through which sales were made, including In-store, Outlet, and Online."
   ]
  },
  {
   "cell_type": "markdown",
   "id": "66827092-0ca4-44da-9152-db2ddd8ed2b2",
   "metadata": {},
   "source": [
    "## 3.- ANÁLISIS EXPLORATORIO DE LOS DATOS:"
   ]
  },
  {
   "cell_type": "markdown",
   "id": "177723fb-de4e-46da-9bca-4cd6030b0111",
   "metadata": {},
   "source": [
    "### 3-1) Importando los datos\n",
    "\n",
    "Seguiremos los pasos que establecimos para nuestro análisis exploratorio. Comenzaremos cargando en nuestro Notebook los módulos (librerias) necesarios para cargar, explorar y manipular los datos contenidos en el archivo. Importaremos los datos del directorio donde se encuentren almacenados. En en el archivos nos encontramos con diferentes tipos de variables: de tipo texto, numérico entero, numérico flotante, de fecha, en las del tipo texto debemos verificar el encoding."
   ]
  },
  {
   "cell_type": "code",
   "execution_count": 118,
   "id": "dfe4c70a-b15d-4b88-9b3c-59c19669ef8f",
   "metadata": {},
   "outputs": [],
   "source": [
    "# Importamos los modulos que nos serán necesarios para cargar, manipular los datos\n",
    "\n",
    "import numpy as np\n",
    "import pandas as pd\n",
    "\n",
    "import matplotlib.pyplot as plt\n",
    "import seaborn as sns\n",
    "import plotly.express as px\n",
    "import plotly.graph_objects as go\n"
   ]
  },
  {
   "cell_type": "code",
   "execution_count": 119,
   "id": "dd26b742-41b8-4a7c-a82a-813adac424dd",
   "metadata": {},
   "outputs": [],
   "source": [
    "# Hacemos una lectura del archivo del datasets, mediante el médoto read_excel de Pandas, y lo convertimos en DataFrame con data\n",
    "\n",
    "data = pd.read_excel('C:/Users/fvald/Documents/Varias Hojas de Cálculo/Adidas_US_Sales_Datasets.xlsx')"
   ]
  },
  {
   "cell_type": "code",
   "execution_count": 120,
   "id": "899631d1-42ac-474f-b023-34f34b2af8fd",
   "metadata": {},
   "outputs": [
    {
     "data": {
      "text/html": [
       "<div>\n",
       "<style scoped>\n",
       "    .dataframe tbody tr th:only-of-type {\n",
       "        vertical-align: middle;\n",
       "    }\n",
       "\n",
       "    .dataframe tbody tr th {\n",
       "        vertical-align: top;\n",
       "    }\n",
       "\n",
       "    .dataframe thead th {\n",
       "        text-align: right;\n",
       "    }\n",
       "</style>\n",
       "<table border=\"1\" class=\"dataframe\">\n",
       "  <thead>\n",
       "    <tr style=\"text-align: right;\">\n",
       "      <th></th>\n",
       "      <th>Retailer</th>\n",
       "      <th>Retailer ID</th>\n",
       "      <th>Invoice Date</th>\n",
       "      <th>Region</th>\n",
       "      <th>State</th>\n",
       "      <th>City</th>\n",
       "      <th>Product</th>\n",
       "      <th>Price per Unit</th>\n",
       "      <th>Units Sold</th>\n",
       "      <th>Total Sales</th>\n",
       "      <th>Operating Profit</th>\n",
       "      <th>Operating Margin</th>\n",
       "      <th>Sales Method</th>\n",
       "    </tr>\n",
       "  </thead>\n",
       "  <tbody>\n",
       "    <tr>\n",
       "      <th>0</th>\n",
       "      <td>Foot Locker</td>\n",
       "      <td>1185732</td>\n",
       "      <td>2020-01-01</td>\n",
       "      <td>Northeast</td>\n",
       "      <td>New York</td>\n",
       "      <td>New York</td>\n",
       "      <td>Men's Street Footwear</td>\n",
       "      <td>50.0</td>\n",
       "      <td>1200</td>\n",
       "      <td>600000.0</td>\n",
       "      <td>300000.0</td>\n",
       "      <td>0.50</td>\n",
       "      <td>In-store</td>\n",
       "    </tr>\n",
       "    <tr>\n",
       "      <th>1</th>\n",
       "      <td>Foot Locker</td>\n",
       "      <td>1185732</td>\n",
       "      <td>2020-01-02</td>\n",
       "      <td>Northeast</td>\n",
       "      <td>New York</td>\n",
       "      <td>New York</td>\n",
       "      <td>Men's Athletic Footwear</td>\n",
       "      <td>50.0</td>\n",
       "      <td>1000</td>\n",
       "      <td>500000.0</td>\n",
       "      <td>150000.0</td>\n",
       "      <td>0.30</td>\n",
       "      <td>In-store</td>\n",
       "    </tr>\n",
       "    <tr>\n",
       "      <th>2</th>\n",
       "      <td>Foot Locker</td>\n",
       "      <td>1185732</td>\n",
       "      <td>2020-01-03</td>\n",
       "      <td>Northeast</td>\n",
       "      <td>New York</td>\n",
       "      <td>New York</td>\n",
       "      <td>Women's Street Footwear</td>\n",
       "      <td>40.0</td>\n",
       "      <td>1000</td>\n",
       "      <td>400000.0</td>\n",
       "      <td>140000.0</td>\n",
       "      <td>0.35</td>\n",
       "      <td>In-store</td>\n",
       "    </tr>\n",
       "    <tr>\n",
       "      <th>3</th>\n",
       "      <td>Foot Locker</td>\n",
       "      <td>1185732</td>\n",
       "      <td>2020-01-04</td>\n",
       "      <td>Northeast</td>\n",
       "      <td>New York</td>\n",
       "      <td>New York</td>\n",
       "      <td>Women's Athletic Footwear</td>\n",
       "      <td>45.0</td>\n",
       "      <td>850</td>\n",
       "      <td>382500.0</td>\n",
       "      <td>133875.0</td>\n",
       "      <td>0.35</td>\n",
       "      <td>In-store</td>\n",
       "    </tr>\n",
       "    <tr>\n",
       "      <th>4</th>\n",
       "      <td>Foot Locker</td>\n",
       "      <td>1185732</td>\n",
       "      <td>2020-01-05</td>\n",
       "      <td>Northeast</td>\n",
       "      <td>New York</td>\n",
       "      <td>New York</td>\n",
       "      <td>Men's Apparel</td>\n",
       "      <td>60.0</td>\n",
       "      <td>900</td>\n",
       "      <td>540000.0</td>\n",
       "      <td>162000.0</td>\n",
       "      <td>0.30</td>\n",
       "      <td>In-store</td>\n",
       "    </tr>\n",
       "  </tbody>\n",
       "</table>\n",
       "</div>"
      ],
      "text/plain": [
       "      Retailer  Retailer ID Invoice Date     Region     State      City  \\\n",
       "0  Foot Locker      1185732   2020-01-01  Northeast  New York  New York   \n",
       "1  Foot Locker      1185732   2020-01-02  Northeast  New York  New York   \n",
       "2  Foot Locker      1185732   2020-01-03  Northeast  New York  New York   \n",
       "3  Foot Locker      1185732   2020-01-04  Northeast  New York  New York   \n",
       "4  Foot Locker      1185732   2020-01-05  Northeast  New York  New York   \n",
       "\n",
       "                     Product  Price per Unit  Units Sold  Total Sales  \\\n",
       "0      Men's Street Footwear            50.0        1200     600000.0   \n",
       "1    Men's Athletic Footwear            50.0        1000     500000.0   \n",
       "2    Women's Street Footwear            40.0        1000     400000.0   \n",
       "3  Women's Athletic Footwear            45.0         850     382500.0   \n",
       "4              Men's Apparel            60.0         900     540000.0   \n",
       "\n",
       "   Operating Profit  Operating Margin Sales Method  \n",
       "0          300000.0              0.50     In-store  \n",
       "1          150000.0              0.30     In-store  \n",
       "2          140000.0              0.35     In-store  \n",
       "3          133875.0              0.35     In-store  \n",
       "4          162000.0              0.30     In-store  "
      ]
     },
     "execution_count": 120,
     "metadata": {},
     "output_type": "execute_result"
    }
   ],
   "source": [
    "# previsualizamos las primeras filas con el método head()\n",
    "\n",
    "data.head()"
   ]
  },
  {
   "cell_type": "code",
   "execution_count": 121,
   "id": "7547782b-8186-432f-850e-16349fddf55f",
   "metadata": {},
   "outputs": [
    {
     "data": {
      "text/html": [
       "<div>\n",
       "<style scoped>\n",
       "    .dataframe tbody tr th:only-of-type {\n",
       "        vertical-align: middle;\n",
       "    }\n",
       "\n",
       "    .dataframe tbody tr th {\n",
       "        vertical-align: top;\n",
       "    }\n",
       "\n",
       "    .dataframe thead th {\n",
       "        text-align: right;\n",
       "    }\n",
       "</style>\n",
       "<table border=\"1\" class=\"dataframe\">\n",
       "  <thead>\n",
       "    <tr style=\"text-align: right;\">\n",
       "      <th></th>\n",
       "      <th>Retailer</th>\n",
       "      <th>Retailer ID</th>\n",
       "      <th>Invoice Date</th>\n",
       "      <th>Region</th>\n",
       "      <th>State</th>\n",
       "      <th>City</th>\n",
       "      <th>Product</th>\n",
       "      <th>Price per Unit</th>\n",
       "      <th>Units Sold</th>\n",
       "      <th>Total Sales</th>\n",
       "      <th>Operating Profit</th>\n",
       "      <th>Operating Margin</th>\n",
       "      <th>Sales Method</th>\n",
       "    </tr>\n",
       "  </thead>\n",
       "  <tbody>\n",
       "    <tr>\n",
       "      <th>9643</th>\n",
       "      <td>Foot Locker</td>\n",
       "      <td>1185732</td>\n",
       "      <td>2021-01-24</td>\n",
       "      <td>Northeast</td>\n",
       "      <td>New Hampshire</td>\n",
       "      <td>Manchester</td>\n",
       "      <td>Men's Apparel</td>\n",
       "      <td>50.0</td>\n",
       "      <td>64</td>\n",
       "      <td>3200.0</td>\n",
       "      <td>896.00</td>\n",
       "      <td>0.28</td>\n",
       "      <td>Outlet</td>\n",
       "    </tr>\n",
       "    <tr>\n",
       "      <th>9644</th>\n",
       "      <td>Foot Locker</td>\n",
       "      <td>1185732</td>\n",
       "      <td>2021-01-24</td>\n",
       "      <td>Northeast</td>\n",
       "      <td>New Hampshire</td>\n",
       "      <td>Manchester</td>\n",
       "      <td>Women's Apparel</td>\n",
       "      <td>41.0</td>\n",
       "      <td>105</td>\n",
       "      <td>4305.0</td>\n",
       "      <td>1377.60</td>\n",
       "      <td>0.32</td>\n",
       "      <td>Outlet</td>\n",
       "    </tr>\n",
       "    <tr>\n",
       "      <th>9645</th>\n",
       "      <td>Foot Locker</td>\n",
       "      <td>1185732</td>\n",
       "      <td>2021-02-22</td>\n",
       "      <td>Northeast</td>\n",
       "      <td>New Hampshire</td>\n",
       "      <td>Manchester</td>\n",
       "      <td>Men's Street Footwear</td>\n",
       "      <td>41.0</td>\n",
       "      <td>184</td>\n",
       "      <td>7544.0</td>\n",
       "      <td>2791.28</td>\n",
       "      <td>0.37</td>\n",
       "      <td>Outlet</td>\n",
       "    </tr>\n",
       "    <tr>\n",
       "      <th>9646</th>\n",
       "      <td>Foot Locker</td>\n",
       "      <td>1185732</td>\n",
       "      <td>2021-02-22</td>\n",
       "      <td>Northeast</td>\n",
       "      <td>New Hampshire</td>\n",
       "      <td>Manchester</td>\n",
       "      <td>Men's Athletic Footwear</td>\n",
       "      <td>42.0</td>\n",
       "      <td>70</td>\n",
       "      <td>2940.0</td>\n",
       "      <td>1234.80</td>\n",
       "      <td>0.42</td>\n",
       "      <td>Outlet</td>\n",
       "    </tr>\n",
       "    <tr>\n",
       "      <th>9647</th>\n",
       "      <td>Foot Locker</td>\n",
       "      <td>1185732</td>\n",
       "      <td>2021-02-22</td>\n",
       "      <td>Northeast</td>\n",
       "      <td>New Hampshire</td>\n",
       "      <td>Manchester</td>\n",
       "      <td>Women's Street Footwear</td>\n",
       "      <td>29.0</td>\n",
       "      <td>83</td>\n",
       "      <td>2407.0</td>\n",
       "      <td>649.89</td>\n",
       "      <td>0.27</td>\n",
       "      <td>Outlet</td>\n",
       "    </tr>\n",
       "  </tbody>\n",
       "</table>\n",
       "</div>"
      ],
      "text/plain": [
       "         Retailer  Retailer ID Invoice Date     Region          State  \\\n",
       "9643  Foot Locker      1185732   2021-01-24  Northeast  New Hampshire   \n",
       "9644  Foot Locker      1185732   2021-01-24  Northeast  New Hampshire   \n",
       "9645  Foot Locker      1185732   2021-02-22  Northeast  New Hampshire   \n",
       "9646  Foot Locker      1185732   2021-02-22  Northeast  New Hampshire   \n",
       "9647  Foot Locker      1185732   2021-02-22  Northeast  New Hampshire   \n",
       "\n",
       "            City                  Product  Price per Unit  Units Sold  \\\n",
       "9643  Manchester            Men's Apparel            50.0          64   \n",
       "9644  Manchester          Women's Apparel            41.0         105   \n",
       "9645  Manchester    Men's Street Footwear            41.0         184   \n",
       "9646  Manchester  Men's Athletic Footwear            42.0          70   \n",
       "9647  Manchester  Women's Street Footwear            29.0          83   \n",
       "\n",
       "      Total Sales  Operating Profit  Operating Margin Sales Method  \n",
       "9643       3200.0            896.00              0.28       Outlet  \n",
       "9644       4305.0           1377.60              0.32       Outlet  \n",
       "9645       7544.0           2791.28              0.37       Outlet  \n",
       "9646       2940.0           1234.80              0.42       Outlet  \n",
       "9647       2407.0            649.89              0.27       Outlet  "
      ]
     },
     "execution_count": 121,
     "metadata": {},
     "output_type": "execute_result"
    }
   ],
   "source": [
    "# previsualizamos las ultimas filas del DF con el método tail()\n",
    "\n",
    "data.tail()"
   ]
  },
  {
   "cell_type": "markdown",
   "id": "38914e80-db0c-438d-96ef-2068f96f4b1f",
   "metadata": {},
   "source": [
    "### 3-2) Limpieza de Datos\n",
    "\n",
    "Una vez que hemos cargado los datos y hemos verificado su integridad, pasamos a la limpieza. Ahora revisaremos el formato de los datos, los tipos de datos que tenemos, los valores nulos y haremos un comentario sobre los valores duplicados."
   ]
  },
  {
   "cell_type": "markdown",
   "id": "d58c8513-af3c-4e5b-8393-2e456e415940",
   "metadata": {},
   "source": [
    "### 3-2.1) Tipos de datos\n",
    "\n",
    "Ahora nos interesa familiarizarnos con los tipos de datos de nuestro dataset. Esto sucede por dos motivos, el primero es que nos interesa saber si estamos tratando con texto, valores numéricos, categóricos, números enteros, decimales, y sus medidas estadísticas centrales y de dispersión. Básicamente queremos un resumen matemático de alto nivel sobre los principales estadísticas de nuestro dataset.\n",
    "\n",
    "Si utilizamos el método .dtypes sobre el DataFrame veremos que hay variables con tipo de datos numéricos, de enteros (int) y decimales (float64), de tipo texto, Pandas llama al tipo string como object y una variable tipo fecha."
   ]
  },
  {
   "cell_type": "code",
   "execution_count": 122,
   "id": "e0b7d809-bbd5-4687-937f-5146ea6ade9e",
   "metadata": {},
   "outputs": [
    {
     "data": {
      "text/plain": [
       "Retailer                    object\n",
       "Retailer ID                  int64\n",
       "Invoice Date        datetime64[ns]\n",
       "Region                      object\n",
       "State                       object\n",
       "City                        object\n",
       "Product                     object\n",
       "Price per Unit             float64\n",
       "Units Sold                   int64\n",
       "Total Sales                float64\n",
       "Operating Profit           float64\n",
       "Operating Margin           float64\n",
       "Sales Method                object\n",
       "dtype: object"
      ]
     },
     "execution_count": 122,
     "metadata": {},
     "output_type": "execute_result"
    }
   ],
   "source": [
    "data.dtypes"
   ]
  },
  {
   "cell_type": "markdown",
   "id": "d16b9e69-a70c-421b-81da-07d3028cbc64",
   "metadata": {},
   "source": [
    "Cuando verificamos el tipo de datos, también suele ser útil verificar el tamaño del Dataset. El dataset es una tabla, por lo que tiene una cantidad de registros igual a la cantidad de filas y una cantidad de variables igual a la cantidad de columnas. El atributo .shape del DataFrame nos permite saber el tamaño del DataFrame. Lo devuelve como una tupla de la forma: (\"número de filas\", \"número de columnas\")"
   ]
  },
  {
   "cell_type": "code",
   "execution_count": 123,
   "id": "3e099b27-7000-4979-a2dd-5e6d8a422d3f",
   "metadata": {},
   "outputs": [
    {
     "data": {
      "text/plain": [
       "(9648, 13)"
      ]
     },
     "execution_count": 123,
     "metadata": {},
     "output_type": "execute_result"
    }
   ],
   "source": [
    "data.shape"
   ]
  },
  {
   "cell_type": "markdown",
   "id": "e35756c1-1bb0-4c07-b49c-c6540eb78ad4",
   "metadata": {},
   "source": [
    "### 3-2.2) Detección y tratamiento de valores atípicos \n",
    "\n",
    "Obtenemos los valores unicos que hay en las variables cuyo tipo de valor es string, que se dan en las columnas Retailer, Region, State, City, Product, Sales Method"
   ]
  },
  {
   "cell_type": "code",
   "execution_count": 124,
   "id": "397db666-3bcc-4e97-bc00-c1abb4620ee2",
   "metadata": {},
   "outputs": [
    {
     "data": {
      "text/plain": [
       "array(['Foot Locker', 'Walmart', 'Sports Direct', 'West Gear', \"Kohl's\",\n",
       "       'Amazon'], dtype=object)"
      ]
     },
     "execution_count": 124,
     "metadata": {},
     "output_type": "execute_result"
    }
   ],
   "source": [
    "# obtenemos los valores unicos que hay en las variables cuyo tipo de valor es string, que se dan en las columnas Retailer, Region,State, City, Product, Sales Method\n",
    "\n",
    "data['Retailer'].unique()"
   ]
  },
  {
   "cell_type": "code",
   "execution_count": 125,
   "id": "afd6900c-83bc-4a5b-a029-86d461abfaa8",
   "metadata": {},
   "outputs": [
    {
     "data": {
      "text/plain": [
       "array(['Northeast', 'South', 'West', 'Midwest', 'Southeast'], dtype=object)"
      ]
     },
     "execution_count": 125,
     "metadata": {},
     "output_type": "execute_result"
    }
   ],
   "source": [
    "data['Region'].unique()"
   ]
  },
  {
   "cell_type": "code",
   "execution_count": 126,
   "id": "6b0c9ebb-c174-48a0-84d3-444a8ec848ed",
   "metadata": {},
   "outputs": [
    {
     "data": {
      "text/plain": [
       "array(['New York', 'Texas', 'California', 'Illinois', 'Pennsylvania',\n",
       "       'Nevada', 'Colorado', 'Washington', 'Florida', 'Minnesota',\n",
       "       'Montana', 'Tennessee', 'Nebraska', 'Alabama', 'Maine', 'Alaska',\n",
       "       'Hawaii', 'Wyoming', 'Virginia', 'Michigan', 'Missouri', 'Utah',\n",
       "       'Oregon', 'Louisiana', 'Idaho', 'Arizona', 'New Mexico', 'Georgia',\n",
       "       'South Carolina', 'North Carolina', 'Ohio', 'Kentucky',\n",
       "       'Mississippi', 'Arkansas', 'Oklahoma', 'Kansas', 'South Dakota',\n",
       "       'North Dakota', 'Iowa', 'Wisconsin', 'Indiana', 'West Virginia',\n",
       "       'Maryland', 'Delaware', 'New Jersey', 'Connecticut',\n",
       "       'Rhode Island', 'Massachusetts', 'Vermont', 'New Hampshire'],\n",
       "      dtype=object)"
      ]
     },
     "execution_count": 126,
     "metadata": {},
     "output_type": "execute_result"
    }
   ],
   "source": [
    "data['State'].unique()"
   ]
  },
  {
   "cell_type": "code",
   "execution_count": 127,
   "id": "62b3af69-a8a5-47e4-8d07-06abe99d1c3d",
   "metadata": {},
   "outputs": [
    {
     "data": {
      "text/plain": [
       "array(['New York', 'Houston', 'San Francisco', 'Los Angeles', 'Chicago',\n",
       "       'Dallas', 'Philadelphia', 'Las Vegas', 'Denver', 'Seattle',\n",
       "       'Miami', 'Minneapolis', 'Billings', 'Knoxville', 'Omaha',\n",
       "       'Birmingham', 'Portland', 'Anchorage', 'Honolulu', 'Orlando',\n",
       "       'Albany', 'Cheyenne', 'Richmond', 'Detroit', 'St. Louis',\n",
       "       'Salt Lake City', 'New Orleans', 'Boise', 'Phoenix', 'Albuquerque',\n",
       "       'Atlanta', 'Charleston', 'Charlotte', 'Columbus', 'Louisville',\n",
       "       'Jackson', 'Little Rock', 'Oklahoma City', 'Wichita',\n",
       "       'Sioux Falls', 'Fargo', 'Des Moines', 'Milwaukee', 'Indianapolis',\n",
       "       'Baltimore', 'Wilmington', 'Newark', 'Hartford', 'Providence',\n",
       "       'Boston', 'Burlington', 'Manchester'], dtype=object)"
      ]
     },
     "execution_count": 127,
     "metadata": {},
     "output_type": "execute_result"
    }
   ],
   "source": [
    "data['City'].unique()"
   ]
  },
  {
   "cell_type": "code",
   "execution_count": 128,
   "id": "ed810ebe-5abd-4e20-a542-ac37b2a2afb3",
   "metadata": {},
   "outputs": [
    {
     "data": {
      "text/plain": [
       "array([\"Men's Street Footwear\", \"Men's Athletic Footwear\",\n",
       "       \"Women's Street Footwear\", \"Women's Athletic Footwear\",\n",
       "       \"Men's Apparel\", \"Women's Apparel\"], dtype=object)"
      ]
     },
     "execution_count": 128,
     "metadata": {},
     "output_type": "execute_result"
    }
   ],
   "source": [
    "data['Product'].unique()"
   ]
  },
  {
   "cell_type": "code",
   "execution_count": 129,
   "id": "03159cf0-1347-4d82-9cc3-b135b788f108",
   "metadata": {},
   "outputs": [
    {
     "data": {
      "text/plain": [
       "array(['In-store', 'Outlet', 'Online'], dtype=object)"
      ]
     },
     "execution_count": 129,
     "metadata": {},
     "output_type": "execute_result"
    }
   ],
   "source": [
    "data['Sales Method'].unique()"
   ]
  },
  {
   "cell_type": "markdown",
   "id": "afecfe7b-8e7a-44db-ac83-709fd437728a",
   "metadata": {},
   "source": [
    "### 3-2.3) Valores nulos\n",
    "\n",
    "Ahora queremos ver si el dataset tiene valores nulos y qué hacer con ellos en caso de que los tenga. Vemos que este dataset no tiene valores nulos con los métodos que se muestran a continuación"
   ]
  },
  {
   "cell_type": "code",
   "execution_count": 130,
   "id": "dcd7156a-f519-4484-a532-0899c53b669e",
   "metadata": {},
   "outputs": [
    {
     "name": "stdout",
     "output_type": "stream",
     "text": [
      "<class 'pandas.core.frame.DataFrame'>\n",
      "RangeIndex: 9648 entries, 0 to 9647\n",
      "Data columns (total 13 columns):\n",
      " #   Column            Non-Null Count  Dtype         \n",
      "---  ------            --------------  -----         \n",
      " 0   Retailer          9648 non-null   object        \n",
      " 1   Retailer ID       9648 non-null   int64         \n",
      " 2   Invoice Date      9648 non-null   datetime64[ns]\n",
      " 3   Region            9648 non-null   object        \n",
      " 4   State             9648 non-null   object        \n",
      " 5   City              9648 non-null   object        \n",
      " 6   Product           9648 non-null   object        \n",
      " 7   Price per Unit    9648 non-null   float64       \n",
      " 8   Units Sold        9648 non-null   int64         \n",
      " 9   Total Sales       9648 non-null   float64       \n",
      " 10  Operating Profit  9648 non-null   float64       \n",
      " 11  Operating Margin  9648 non-null   float64       \n",
      " 12  Sales Method      9648 non-null   object        \n",
      "dtypes: datetime64[ns](1), float64(4), int64(2), object(6)\n",
      "memory usage: 980.0+ KB\n"
     ]
    }
   ],
   "source": [
    "# 1er Método: One way of checking nulls: the .info() method\n",
    "\n",
    "data.info()"
   ]
  },
  {
   "cell_type": "code",
   "execution_count": 131,
   "id": "ad97d54f-f0d4-4100-9123-2d5ae4a3223c",
   "metadata": {},
   "outputs": [
    {
     "name": "stdout",
     "output_type": "stream",
     "text": [
      "Column \"Retailer\" has 0 nulls\n",
      "Column \"Retailer ID\" has 0 nulls\n",
      "Column \"Invoice Date\" has 0 nulls\n",
      "Column \"Region\" has 0 nulls\n",
      "Column \"State\" has 0 nulls\n",
      "Column \"City\" has 0 nulls\n",
      "Column \"Product\" has 0 nulls\n",
      "Column \"Price per Unit\" has 0 nulls\n",
      "Column \"Units Sold\" has 0 nulls\n",
      "Column \"Total Sales\" has 0 nulls\n",
      "Column \"Operating Profit\" has 0 nulls\n",
      "Column \"Operating Margin\" has 0 nulls\n",
      "Column \"Sales Method\" has 0 nulls\n"
     ]
    }
   ],
   "source": [
    "# 2º Método: Another way: using the isna() method\n",
    "\n",
    "for column in data.columns:\n",
    "    num_nulls = data[column].isna().sum()\n",
    "    print(f'Column \"{column}\" has {num_nulls} nulls')"
   ]
  },
  {
   "cell_type": "markdown",
   "id": "9e4bbf2b-c444-48e4-b328-6283aecf698c",
   "metadata": {},
   "source": [
    "### 3-2.4) Valores duplicados\n",
    "\n",
    "En este caso, los valores duplicados no nos interesan por dos razones. La primera es porque sabemos que el dataset no contiene valores duplicados que no deban tenerse en cuenta para el análisis. Esto en la práctica no lo sabríamos, pero como es un dataset clásico esta información es conocida. La segunda es que si miramos el tamaño de nuestro dataset, tenemos solamente 9648 registros, por lo que si eliminamos duplicados corremos el riesgo de no poder realizar un análisis suficiente de los datos.\n",
    "\n",
    "Igualmente, como algunos se preguntarán cómo podríamos atacar esta parte del EDA, lo mostraremos debajo a pesar de que no se realizarán cambios reales sobre el DataFrame.\n",
    "\n",
    "Primero buscaremos los valores repetidos en el dataframe. Esto podemos hacerlo con el método .duplicated(). Este método devuelve una serie de True/False que tiene True en la posición donde hay un duplicado y False en la posición donde no la hay. Si le pasamos eso al DataFrame original, es como si estuvieramos filtrando por los valores que están duplicados.\n",
    "\n",
    "Una observación es que el método duplicated por defecto borra el primer elemento repetido, pero como nos interesa ver todos los elementos, le pasamos el argumento \"keep\" como False, lo que significa que queremos ver todos los valores repetidos."
   ]
  },
  {
   "cell_type": "code",
   "execution_count": 132,
   "id": "3bdf89e2-0c07-45da-9306-14f71b051f79",
   "metadata": {},
   "outputs": [
    {
     "data": {
      "text/html": [
       "<div>\n",
       "<style scoped>\n",
       "    .dataframe tbody tr th:only-of-type {\n",
       "        vertical-align: middle;\n",
       "    }\n",
       "\n",
       "    .dataframe tbody tr th {\n",
       "        vertical-align: top;\n",
       "    }\n",
       "\n",
       "    .dataframe thead th {\n",
       "        text-align: right;\n",
       "    }\n",
       "</style>\n",
       "<table border=\"1\" class=\"dataframe\">\n",
       "  <thead>\n",
       "    <tr style=\"text-align: right;\">\n",
       "      <th></th>\n",
       "      <th>Retailer</th>\n",
       "      <th>Retailer ID</th>\n",
       "      <th>Invoice Date</th>\n",
       "      <th>Region</th>\n",
       "      <th>State</th>\n",
       "      <th>City</th>\n",
       "      <th>Product</th>\n",
       "      <th>Price per Unit</th>\n",
       "      <th>Units Sold</th>\n",
       "      <th>Total Sales</th>\n",
       "      <th>Operating Profit</th>\n",
       "      <th>Operating Margin</th>\n",
       "      <th>Sales Method</th>\n",
       "    </tr>\n",
       "  </thead>\n",
       "  <tbody>\n",
       "  </tbody>\n",
       "</table>\n",
       "</div>"
      ],
      "text/plain": [
       "Empty DataFrame\n",
       "Columns: [Retailer, Retailer ID, Invoice Date, Region, State, City, Product, Price per Unit, Units Sold, Total Sales, Operating Profit, Operating Margin, Sales Method]\n",
       "Index: []"
      ]
     },
     "execution_count": 132,
     "metadata": {},
     "output_type": "execute_result"
    }
   ],
   "source": [
    "data[data.duplicated(keep=False)]"
   ]
  },
  {
   "cell_type": "markdown",
   "id": "68d31515-7a07-4900-9227-518ec86684c5",
   "metadata": {},
   "source": [
    "Se comprueba que el dataset no contiene registros de valores Duplicdos"
   ]
  },
  {
   "cell_type": "markdown",
   "id": "cb10c874-d9f6-460e-a15e-fc183ef97c78",
   "metadata": {},
   "source": [
    "### 3-2.5) Valores conversion\n",
    "\n",
    "Para convertir datos a formato numérico, a menudo es necesario eliminar caracteres no numéricos, como símbolos de moneda o comas. En ocasiones, las columnas que se espera que contengan datos numéricos pueden incluir caracteres no numéricos. Las variables que se sometieron a este proceso de limpieza incluyen Units Sold, Total Sales, Operating Profit, and Operating Margin "
   ]
  },
  {
   "cell_type": "code",
   "execution_count": 133,
   "id": "f3b39e4d-d63c-472e-b2a8-72309632bd7f",
   "metadata": {},
   "outputs": [],
   "source": [
    "data['Units Sold'] = data['Units Sold'].astype(str).str.replace(r'[$, ]', '', regex=True).astype(float)\n",
    "data['Total Sales'] = data['Total Sales'].astype(str).str.replace(r'[$, ]', '', regex=True).astype(float)\n",
    "data['Operating Profit'] = data['Operating Profit'].astype(str).str.replace(r'[$, ]', '', regex=True).astype(float)\n",
    "data['Operating Margin'] = data['Operating Margin'].astype(str).str.replace(r'[$, ]', '', regex=True).astype(float)"
   ]
  },
  {
   "cell_type": "markdown",
   "id": "d6fc54ff-355c-4641-8b1f-676796dd5785",
   "metadata": {},
   "source": [
    "### 3-2.5.1) Conversión de fecha de factura en objeto DateTime:\n",
    "\n",
    "La conversión de fecha de factura en un objeto DateTime permite un manejo preciso de datos temporales, esencial para cálculos precisos basados ​​en fechas y análisis de lineas de tiempo."
   ]
  },
  {
   "cell_type": "code",
   "execution_count": 134,
   "id": "a1174dc2-0940-461a-b274-731848023a70",
   "metadata": {},
   "outputs": [],
   "source": [
    "data['Invoice Date'] = pd.to_datetime(data['Invoice Date'])"
   ]
  },
  {
   "cell_type": "markdown",
   "id": "83e1b6e6-0248-41ce-8986-3085d68bb960",
   "metadata": {},
   "source": [
    "Tras las conversiones realizadas anteriormente en las diferentes variables, visualizamos de nuevo los tipos de variables para ver como han quedado"
   ]
  },
  {
   "cell_type": "code",
   "execution_count": 135,
   "id": "19d4e1a1-603d-4f8f-8487-2d5c9c96796b",
   "metadata": {},
   "outputs": [
    {
     "data": {
      "text/plain": [
       "Retailer                    object\n",
       "Retailer ID                  int64\n",
       "Invoice Date        datetime64[ns]\n",
       "Region                      object\n",
       "State                       object\n",
       "City                        object\n",
       "Product                     object\n",
       "Price per Unit             float64\n",
       "Units Sold                 float64\n",
       "Total Sales                float64\n",
       "Operating Profit           float64\n",
       "Operating Margin           float64\n",
       "Sales Method                object\n",
       "dtype: object"
      ]
     },
     "execution_count": 135,
     "metadata": {},
     "output_type": "execute_result"
    }
   ],
   "source": [
    "data.dtypes"
   ]
  },
  {
   "cell_type": "markdown",
   "id": "5e1f0b88-880e-4209-98a7-59e980c64fa3",
   "metadata": {},
   "source": [
    "## 3-3) Analisis Variables"
   ]
  },
  {
   "cell_type": "markdown",
   "id": "46132ef7-9418-48a4-a7eb-871a81b9a064",
   "metadata": {},
   "source": [
    "Una vez que hemos terminado el proceso de limpieza, pasamos al análisis visual de los datos. Realizaremos análisis univariante y multivariante, para que puedan ver cómo hacerlo y cómo utilizar Seaborn a nuestro favor para hacerlo. En la sección final del notebook utilizaremos PCA (un método de reducción de dimensionalidad) para intentar visualizar todo el dataset en una sola gráfica."
   ]
  },
  {
   "cell_type": "markdown",
   "id": "7ed56a40-132e-47e0-b02c-b72d3842adec",
   "metadata": {},
   "source": [
    "### 3-3.1) Análisis univariante\n",
    "\n",
    "El análisis univariante se centra en una única variable a la vez. No nos interesa ver el comportamiento de la variable en relación a las demás, sino en relación a si misma. Cómo es su distribución? Es una categoría o una variable continua? Hay alguna variable que nos llame la atención? Todo esto es lo que queremos responder en este análisis."
   ]
  },
  {
   "cell_type": "code",
   "execution_count": 136,
   "id": "527de172-e595-4b04-bed3-00b1b1b94763",
   "metadata": {},
   "outputs": [
    {
     "name": "stderr",
     "output_type": "stream",
     "text": [
      "C:\\Users\\fvald\\anaconda3\\envs\\notebook\\Lib\\site-packages\\seaborn\\_oldcore.py:1119: FutureWarning: use_inf_as_na option is deprecated and will be removed in a future version. Convert inf values to NaN before operating instead.\n",
      "  with pd.option_context('mode.use_inf_as_na', True):\n"
     ]
    },
    {
     "data": {
      "text/plain": [
       "<Axes: xlabel='Total Sales', ylabel='Count'>"
      ]
     },
     "execution_count": 136,
     "metadata": {},
     "output_type": "execute_result"
    },
    {
     "data": {
      "image/png": "[encoded data removed]",
      "text/plain": [
       "<Figure size 700x500 with 1 Axes>"
      ]
     },
     "metadata": {},
     "output_type": "display_data"
    }
   ],
   "source": [
    "# Analizamos la variable mas importante del Datasets, total ventas. Dibujamos un histograma con Seaborn\n",
    "\n",
    "plt.figure(figsize=(7, 5))\n",
    "sns.histplot(data=data, x='Total Sales', bins=11)"
   ]
  },
  {
   "cell_type": "markdown",
   "id": "f0be6c95-0c25-4301-856d-b1fb2a43bb8e",
   "metadata": {},
   "source": [
    "Se observa que la variable de Total Sales no sigue una distribucion normal, la mayoria de las ventas estan por debajo de los 100.000"
   ]
  },
  {
   "cell_type": "markdown",
   "id": "4a45da77-3322-4d8c-b60c-a0068bc37a43",
   "metadata": {},
   "source": [
    "### 3-3.2) Análisis BIvariante\n",
    "\n",
    "El análisis BIvariante se centra en el comportamiento de una variable respecto a otra. Si el estudio toma como objeto, el análisis de las ventas, lo correcto es analizar como se comporta las ventas, respecto a las otras variables de las que depedne: Retailer (vendedor), Region, Estado, Ciudad, Producto y fechas de ventas para comprobar la estacionalidad de las mismas."
   ]
  },
  {
   "cell_type": "markdown",
   "id": "a594d2eb-e2e2-4bab-aba5-c4231632127b",
   "metadata": {},
   "source": [
    "## 4.- VISUALIZACION"
   ]
  },
  {
   "cell_type": "markdown",
   "id": "54d8f11d-74f3-4c4d-beca-48a395c6a8e2",
   "metadata": {},
   "source": [
    "### Análisis comerciales que se pueden resolver utilizando este conjunto de datos:\n",
    "\n",
    "1. Análisis del rendimiento de las ventas: ¿Qué productos destacan en ventas y cuáles tienen un rendimiento inferior?\n",
    "\n",
    "2. Análisis del mercado regional: ¿Qué tiendas están experimentando fuertes ventas y cuáles están rezagadas?\n",
    "\n",
    "3. Análisis del margen de beneficio: ¿El margen de beneficio tiene un impacto significativo en las ventas?\n",
    "\n",
    "4. Eficiencia de los métodos de venta: ¿Qué método de venta es más efectivo: en la tienda o en línea?\n",
    "\n",
    "5. Optimización de precios: ¿Existe algún rango de precios específico que consiga mejores ventas que otros?\n",
    "\n",
    "6. Optimización del Portafolio de Productos I: Determinar qué productos son más rentables, segmentados por ubicación.\n",
    "\n",
    "7. Oportunidades de expansión del mercado: evaluar las tiendas con mejor y peor desempeño según su ubicación.\n",
    "\n",
    "8. Análisis de series temporales: investigue si ha habido una tendencia de ventas constante a lo largo del tiempo o alguna tendencia mensual notable.\n",
    "\n",
    "9. Análisis predictivo de ventas: desarrolle un pronóstico de ventas mensuales.\n",
    "\n",
    "10. Panel de ventas de Power BI"
   ]
  },
  {
   "cell_type": "markdown",
   "id": "251ecc0f-19a0-48b4-b0db-4e66349d2fc4",
   "metadata": {},
   "source": [
    "####  1. Análisis del rendimiento de las ventas: ¿ Qué productos destacan en ventas y cuáles tienen un rendimiento inferior?"
   ]
  },
  {
   "cell_type": "markdown",
   "id": "e73eacca-fe8c-4ce8-8e06-83bfcb78c9f6",
   "metadata": {},
   "source": [
    "Análisis de ventas:\n",
    "\n",
    "Ingresos totales: los ingresos totales se refieren a la cantidad total de ingresos generados por una empresa por sus ventas de bienes o servicios, antes de deducir cualquier gasto. Es un indicador principal de la salud financiera y el desempeño del mercado de una empresa, que se calcula multiplicando el precio de los bienes o servicios por el número total de unidades vendidas. En nuestro caso como ya tenemos el dato de una columna del total ventas, solamente hacemos el sumatorio de toda los registros de la columna"
   ]
  },
  {
   "cell_type": "code",
   "execution_count": 80,
   "id": "6769ef99-ef6b-43d7-a905-a37e597aabdc",
   "metadata": {},
   "outputs": [
    {
     "data": {
      "text/plain": [
       "899902125.0"
      ]
     },
     "execution_count": 80,
     "metadata": {},
     "output_type": "execute_result"
    }
   ],
   "source": [
    "# Primero averiguemos los ingresos totales\n",
    "\n",
    "total_revenue = data['Total Sales'].sum()\n",
    "total_revenue"
   ]
  },
  {
   "cell_type": "code",
   "execution_count": 81,
   "id": "582c2082-d0fd-4fd5-bf8e-285db1ae02a7",
   "metadata": {},
   "outputs": [
    {
     "data": {
      "text/html": [
       "<div>\n",
       "<style scoped>\n",
       "    .dataframe tbody tr th:only-of-type {\n",
       "        vertical-align: middle;\n",
       "    }\n",
       "\n",
       "    .dataframe tbody tr th {\n",
       "        vertical-align: top;\n",
       "    }\n",
       "\n",
       "    .dataframe thead th {\n",
       "        text-align: right;\n",
       "    }\n",
       "</style>\n",
       "<table border=\"1\" class=\"dataframe\">\n",
       "  <thead>\n",
       "    <tr style=\"text-align: right;\">\n",
       "      <th></th>\n",
       "      <th>Total Sales</th>\n",
       "      <th>Units Sold</th>\n",
       "    </tr>\n",
       "    <tr>\n",
       "      <th>Product</th>\n",
       "      <th></th>\n",
       "      <th></th>\n",
       "    </tr>\n",
       "  </thead>\n",
       "  <tbody>\n",
       "    <tr>\n",
       "      <th>Men's Apparel</th>\n",
       "      <td>123728632.0</td>\n",
       "      <td>306683.0</td>\n",
       "    </tr>\n",
       "    <tr>\n",
       "      <th>Men's Athletic Footwear</th>\n",
       "      <td>153673680.0</td>\n",
       "      <td>435526.0</td>\n",
       "    </tr>\n",
       "    <tr>\n",
       "      <th>Men's Street Footwear</th>\n",
       "      <td>208826244.0</td>\n",
       "      <td>593320.0</td>\n",
       "    </tr>\n",
       "    <tr>\n",
       "      <th>Women's Apparel</th>\n",
       "      <td>179038860.0</td>\n",
       "      <td>433827.0</td>\n",
       "    </tr>\n",
       "    <tr>\n",
       "      <th>Women's Athletic Footwear</th>\n",
       "      <td>106631896.0</td>\n",
       "      <td>317236.0</td>\n",
       "    </tr>\n",
       "    <tr>\n",
       "      <th>Women's Street Footwear</th>\n",
       "      <td>128002813.0</td>\n",
       "      <td>392269.0</td>\n",
       "    </tr>\n",
       "  </tbody>\n",
       "</table>\n",
       "</div>"
      ],
      "text/plain": [
       "                           Total Sales  Units Sold\n",
       "Product                                           \n",
       "Men's Apparel              123728632.0    306683.0\n",
       "Men's Athletic Footwear    153673680.0    435526.0\n",
       "Men's Street Footwear      208826244.0    593320.0\n",
       "Women's Apparel            179038860.0    433827.0\n",
       "Women's Athletic Footwear  106631896.0    317236.0\n",
       "Women's Street Footwear    128002813.0    392269.0"
      ]
     },
     "execution_count": 81,
     "metadata": {},
     "output_type": "execute_result"
    }
   ],
   "source": [
    "# Calculamos las ventas Total Sales y Units Sold por cada tipo de Producto\n",
    "\n",
    "product_sales = data.groupby('Product').agg({'Total Sales': 'sum', 'Units Sold': 'sum'})\n",
    "product_sales"
   ]
  },
  {
   "cell_type": "code",
   "execution_count": 82,
   "id": "11fdb0bd-c7bb-489c-9d66-d008c8c61133",
   "metadata": {},
   "outputs": [
    {
     "name": "stdout",
     "output_type": "stream",
     "text": [
      "Top-performing-products: \n"
     ]
    },
    {
     "data": {
      "text/html": [
       "<div>\n",
       "<style scoped>\n",
       "    .dataframe tbody tr th:only-of-type {\n",
       "        vertical-align: middle;\n",
       "    }\n",
       "\n",
       "    .dataframe tbody tr th {\n",
       "        vertical-align: top;\n",
       "    }\n",
       "\n",
       "    .dataframe thead th {\n",
       "        text-align: right;\n",
       "    }\n",
       "</style>\n",
       "<table border=\"1\" class=\"dataframe\">\n",
       "  <thead>\n",
       "    <tr style=\"text-align: right;\">\n",
       "      <th></th>\n",
       "      <th>Total Sales</th>\n",
       "      <th>Units Sold</th>\n",
       "    </tr>\n",
       "    <tr>\n",
       "      <th>Product</th>\n",
       "      <th></th>\n",
       "      <th></th>\n",
       "    </tr>\n",
       "  </thead>\n",
       "  <tbody>\n",
       "    <tr>\n",
       "      <th>Men's Street Footwear</th>\n",
       "      <td>208826244.0</td>\n",
       "      <td>593320.0</td>\n",
       "    </tr>\n",
       "    <tr>\n",
       "      <th>Women's Apparel</th>\n",
       "      <td>179038860.0</td>\n",
       "      <td>433827.0</td>\n",
       "    </tr>\n",
       "    <tr>\n",
       "      <th>Men's Athletic Footwear</th>\n",
       "      <td>153673680.0</td>\n",
       "      <td>435526.0</td>\n",
       "    </tr>\n",
       "    <tr>\n",
       "      <th>Women's Street Footwear</th>\n",
       "      <td>128002813.0</td>\n",
       "      <td>392269.0</td>\n",
       "    </tr>\n",
       "    <tr>\n",
       "      <th>Men's Apparel</th>\n",
       "      <td>123728632.0</td>\n",
       "      <td>306683.0</td>\n",
       "    </tr>\n",
       "  </tbody>\n",
       "</table>\n",
       "</div>"
      ],
      "text/plain": [
       "                         Total Sales  Units Sold\n",
       "Product                                         \n",
       "Men's Street Footwear    208826244.0    593320.0\n",
       "Women's Apparel          179038860.0    433827.0\n",
       "Men's Athletic Footwear  153673680.0    435526.0\n",
       "Women's Street Footwear  128002813.0    392269.0\n",
       "Men's Apparel            123728632.0    306683.0"
      ]
     },
     "execution_count": 82,
     "metadata": {},
     "output_type": "execute_result"
    }
   ],
   "source": [
    "# Ordenamos de forma descendente los Productos por Total Sales y los identificamos como top_performing_products\n",
    "\n",
    "top_performing_products = product_sales.sort_values(by='Total Sales', ascending=False).head()\n",
    "\n",
    "# Visualizamos los resultados\n",
    "print('Top-performing-products: ')\n",
    "top_performing_products"
   ]
  },
  {
   "cell_type": "code",
   "execution_count": 83,
   "id": "068719fc-941e-4fba-8bdd-a623f5127b57",
   "metadata": {},
   "outputs": [
    {
     "name": "stderr",
     "output_type": "stream",
     "text": [
      "C:\\Users\\fvald\\anaconda3\\envs\\notebook\\Lib\\site-packages\\seaborn\\_oldcore.py:1119: FutureWarning: use_inf_as_na option is deprecated and will be removed in a future version. Convert inf values to NaN before operating instead.\n",
      "  with pd.option_context('mode.use_inf_as_na', True):\n",
      "C:\\Users\\fvald\\anaconda3\\envs\\notebook\\Lib\\site-packages\\seaborn\\_oldcore.py:1119: FutureWarning: use_inf_as_na option is deprecated and will be removed in a future version. Convert inf values to NaN before operating instead.\n",
      "  with pd.option_context('mode.use_inf_as_na', True):\n"
     ]
    },
    {
     "data": {
      "image/png": "[encoded data removed]",
      "text/plain": [
       "<Figure size 1200x600 with 1 Axes>"
      ]
     },
     "metadata": {},
     "output_type": "display_data"
    }
   ],
   "source": [
    "# Dibujamos los productos mas importantes del Datasets. Dibujamos un histograma con Seaborn\n",
    "\n",
    "plt.figure(figsize=(12, 6))\n",
    "sns.lineplot(data=top_performing_products)\n",
    "plt.title(\"Total Sales vs Top Product\")\n",
    "plt.xlabel(\"Top Product\")\n",
    "plt.ylabel(\"Total Sales\")\n",
    "plt.show()"
   ]
  },
  {
   "cell_type": "markdown",
   "id": "3a0dc2d2-d79e-4de9-85a5-78f392f538fe",
   "metadata": {},
   "source": [
    "El producto Men's Street Footwear, destaca en ventas y ocupa el nº 1"
   ]
  },
  {
   "cell_type": "code",
   "execution_count": 84,
   "id": "b18d0543-b496-47bf-aa35-3c03b0df7d51",
   "metadata": {},
   "outputs": [
    {
     "name": "stdout",
     "output_type": "stream",
     "text": [
      "under-performing-products: \n"
     ]
    },
    {
     "data": {
      "text/html": [
       "<div>\n",
       "<style scoped>\n",
       "    .dataframe tbody tr th:only-of-type {\n",
       "        vertical-align: middle;\n",
       "    }\n",
       "\n",
       "    .dataframe tbody tr th {\n",
       "        vertical-align: top;\n",
       "    }\n",
       "\n",
       "    .dataframe thead th {\n",
       "        text-align: right;\n",
       "    }\n",
       "</style>\n",
       "<table border=\"1\" class=\"dataframe\">\n",
       "  <thead>\n",
       "    <tr style=\"text-align: right;\">\n",
       "      <th></th>\n",
       "      <th>Total Sales</th>\n",
       "      <th>Units Sold</th>\n",
       "    </tr>\n",
       "    <tr>\n",
       "      <th>Product</th>\n",
       "      <th></th>\n",
       "      <th></th>\n",
       "    </tr>\n",
       "  </thead>\n",
       "  <tbody>\n",
       "    <tr>\n",
       "      <th>Women's Athletic Footwear</th>\n",
       "      <td>106631896.0</td>\n",
       "      <td>317236.0</td>\n",
       "    </tr>\n",
       "    <tr>\n",
       "      <th>Men's Apparel</th>\n",
       "      <td>123728632.0</td>\n",
       "      <td>306683.0</td>\n",
       "    </tr>\n",
       "    <tr>\n",
       "      <th>Women's Street Footwear</th>\n",
       "      <td>128002813.0</td>\n",
       "      <td>392269.0</td>\n",
       "    </tr>\n",
       "    <tr>\n",
       "      <th>Men's Athletic Footwear</th>\n",
       "      <td>153673680.0</td>\n",
       "      <td>435526.0</td>\n",
       "    </tr>\n",
       "    <tr>\n",
       "      <th>Women's Apparel</th>\n",
       "      <td>179038860.0</td>\n",
       "      <td>433827.0</td>\n",
       "    </tr>\n",
       "  </tbody>\n",
       "</table>\n",
       "</div>"
      ],
      "text/plain": [
       "                           Total Sales  Units Sold\n",
       "Product                                           \n",
       "Women's Athletic Footwear  106631896.0    317236.0\n",
       "Men's Apparel              123728632.0    306683.0\n",
       "Women's Street Footwear    128002813.0    392269.0\n",
       "Men's Athletic Footwear    153673680.0    435526.0\n",
       "Women's Apparel            179038860.0    433827.0"
      ]
     },
     "execution_count": 84,
     "metadata": {},
     "output_type": "execute_result"
    }
   ],
   "source": [
    "# Ordenamos de forma descendente los Productos por Total Sales y los identificamos como top_performing_products\n",
    "\n",
    "under_performing_products = product_sales.sort_values(by='Total Sales', ascending=True).head()\n",
    "\n",
    "# Visualizamos los resultados\n",
    "print('under-performing-products: ')\n",
    "under_performing_products"
   ]
  },
  {
   "cell_type": "markdown",
   "id": "1ac3bb8b-3e6a-447b-8fe0-d430a1318cef",
   "metadata": {},
   "source": [
    "EL producto Womnen's Athletic Footwear es en que tiene unas ventas menores"
   ]
  },
  {
   "cell_type": "code",
   "execution_count": 85,
   "id": "61a31920-059b-45e9-95f3-d4b355602506",
   "metadata": {},
   "outputs": [
    {
     "name": "stderr",
     "output_type": "stream",
     "text": [
      "C:\\Users\\fvald\\anaconda3\\envs\\notebook\\Lib\\site-packages\\seaborn\\_oldcore.py:1119: FutureWarning: use_inf_as_na option is deprecated and will be removed in a future version. Convert inf values to NaN before operating instead.\n",
      "  with pd.option_context('mode.use_inf_as_na', True):\n"
     ]
    },
    {
     "data": {
      "text/plain": [
       "<Axes: ylabel='Count'>"
      ]
     },
     "execution_count": 85,
     "metadata": {},
     "output_type": "execute_result"
    },
    {
     "data": {
      "image/png": "[encoded data removed]",
      "text/plain": [
       "<Figure size 700x500 with 1 Axes>"
      ]
     },
     "metadata": {},
     "output_type": "display_data"
    }
   ],
   "source": [
    "# Dibujamos los productos mas importantes del Datasets. Dibujamos un histograma con Seaborn\n",
    "\n",
    "plt.figure(figsize=(7, 5))\n",
    "sns.histplot(data=under_performing_products)"
   ]
  },
  {
   "cell_type": "markdown",
   "id": "df8ca17d-0d6a-4131-834e-aa422ae8b7cc",
   "metadata": {},
   "source": [
    "Analisis principal de los datos obtenidos:\n",
    "\n",
    "El calzado urbano para hombres emerge como la categoría de mejor desempeño con sólidas ventas que ascienden a 208.826.244.-, lo que destaca una fuerte preferencia del mercado. En cambio, el calzado deportivo femenino muestra un desempeño relativamente menor, registrando ventas por $106.631.896.\n",
    "\n",
    "Esta disparidad sugiere áreas potenciales de crecimiento e indica la necesidad de estrategias específicas para mejorar el atractivo de categorías de bajo rendimiento como el calzado deportivo femenino."
   ]
  },
  {
   "cell_type": "markdown",
   "id": "21091389-e3ae-4974-aed4-a897f1d159d3",
   "metadata": {},
   "source": [
    "#### 2. Análisis del mercado regional : ¿Qué tiendas están experimentando fuertes ventas y cuáles están descendiendo?"
   ]
  },
  {
   "cell_type": "markdown",
   "id": "be147ac6-3bb2-49e0-8400-3d1e6600c1d2",
   "metadata": {},
   "source": [
    "- Comencé agrupando los datos según dos variables clave: ciudad (City) y minorista (Retailer). Esta agrupación permite examinar las cifras de ventas de minoristas específicos dentro de cada ciudad.\n",
    "- Después de agrupar, se aplica el método `.sum()` para calcular el total de unidades vendidas por cada minorista en cada ciudad.\n",
    "- Finalmente, los datos agrupados se ordenan para mayor claridad: están ordenados en orden ascendente por ciudad, lo que garantiza que los datos se presenten de manera sistemática, ciudad por ciudad, y en orden descendente por unidades vendidas, destacando a los minoristas con mayores ventas. en la parte superior de la lista de cada ciudad."
   ]
  },
  {
   "cell_type": "code",
   "execution_count": 86,
   "id": "4a15a397-3e69-45f2-90d1-c08f90944e54",
   "metadata": {},
   "outputs": [
    {
     "name": "stdout",
     "output_type": "stream",
     "text": [
      "Unique cities: <bound method Series.unique of 0         New York\n",
      "1         New York\n",
      "2         New York\n",
      "3         New York\n",
      "4         New York\n",
      "           ...    \n",
      "9643    Manchester\n",
      "9644    Manchester\n",
      "9645    Manchester\n",
      "9646    Manchester\n",
      "9647    Manchester\n",
      "Name: City, Length: 9648, dtype: object>\n"
     ]
    }
   ],
   "source": [
    "# Primero averigue cuantas ciudades hay y cuantas tiendas en cada ciudad\n",
    "\n",
    "unique_cities = data['City'].unique\n",
    "print(f'Unique cities:', unique_cities)"
   ]
  },
  {
   "cell_type": "code",
   "execution_count": 87,
   "id": "5fdc7c4e-43bd-4c0e-97ae-e9a20429af54",
   "metadata": {},
   "outputs": [
    {
     "name": "stdout",
     "output_type": "stream",
     "text": [
      "Number of unique cities: 52\n"
     ]
    }
   ],
   "source": [
    "# Se cuenta el numero de ciudades unicas\n",
    "\n",
    "num_unique_cities = data['City'].nunique()\n",
    "print(f'Number of unique cities:', num_unique_cities)"
   ]
  },
  {
   "cell_type": "code",
   "execution_count": 88,
   "id": "569ff40e-3080-4412-a512-298ece5ddd83",
   "metadata": {},
   "outputs": [
    {
     "name": "stdout",
     "output_type": "stream",
     "text": [
      "            City       Retailer  Units Sold\n",
      "0         Albany         Kohl's     10053.0\n",
      "1         Albany      West Gear     47133.0\n",
      "2    Albuquerque         Kohl's     43752.0\n",
      "3    Albuquerque  Sports Direct      8881.0\n",
      "4      Anchorage         Amazon     26749.0\n",
      "..           ...            ...         ...\n",
      "103    St. Louis      West Gear      7527.0\n",
      "104      Wichita    Foot Locker      8940.0\n",
      "105      Wichita         Kohl's     20523.0\n",
      "106   Wilmington    Foot Locker     20924.0\n",
      "107   Wilmington         Kohl's      9351.0\n",
      "\n",
      "[108 rows x 3 columns]\n"
     ]
    }
   ],
   "source": [
    "# Agrupamos por City y Retailer y sumamos las Units Sold\n",
    "\n",
    "three_columns_grouped = data.groupby(['City', 'Retailer'])['Units Sold'].sum().reset_index()\n",
    "print(three_columns_grouped)"
   ]
  },
  {
   "cell_type": "code",
   "execution_count": 89,
   "id": "e855ded5-f16d-41d4-820c-3dce90b199dc",
   "metadata": {},
   "outputs": [
    {
     "name": "stdout",
     "output_type": "stream",
     "text": [
      "            City       Retailer  Units Sold\n",
      "1         Albany      West Gear     47133.0\n",
      "0         Albany         Kohl's     10053.0\n",
      "2    Albuquerque         Kohl's     43752.0\n",
      "3    Albuquerque  Sports Direct      8881.0\n",
      "4      Anchorage         Amazon     26749.0\n",
      "..           ...            ...         ...\n",
      "103    St. Louis      West Gear      7527.0\n",
      "105      Wichita         Kohl's     20523.0\n",
      "104      Wichita    Foot Locker      8940.0\n",
      "106   Wilmington    Foot Locker     20924.0\n",
      "107   Wilmington         Kohl's      9351.0\n",
      "\n",
      "[108 rows x 3 columns]\n"
     ]
    }
   ],
   "source": [
    "# Ordenamos los resultados por ciudad para encontrar el Top y el peor performing retailer\n",
    "\n",
    "three_columns_sorted = three_columns_grouped.sort_values(by=['City', 'Units Sold'], ascending=[True, False])\n",
    "print(three_columns_sorted)"
   ]
  },
  {
   "cell_type": "code",
   "execution_count": 90,
   "id": "4f2e2d57-76e1-4522-94ba-4c5d785bdac8",
   "metadata": {},
   "outputs": [
    {
     "name": "stdout",
     "output_type": "stream",
     "text": [
      "               City       Retailer  Units Sold\n",
      "1            Albany      West Gear     47133.0\n",
      "2       Albuquerque         Kohl's     43752.0\n",
      "4         Anchorage         Amazon     26749.0\n",
      "7           Atlanta  Sports Direct     41414.0\n",
      "8         Baltimore    Foot Locker      9322.0\n",
      "11         Billings         Kohl's     39656.0\n",
      "14       Birmingham  Sports Direct     61653.0\n",
      "17            Boise      West Gear     23539.0\n",
      "19           Boston  Sports Direct     21132.0\n",
      "20       Burlington         Amazon     36476.0\n",
      "22       Charleston    Foot Locker     68381.0\n",
      "26        Charlotte  Sports Direct     52586.0\n",
      "28         Cheyenne         Kohl's     43701.0\n",
      "29          Chicago    Foot Locker     22212.0\n",
      "31         Columbus         Amazon     44925.0\n",
      "34           Dallas  Sports Direct     67683.0\n",
      "35           Denver      West Gear     41378.0\n",
      "36       Des Moines    Foot Locker     15788.0\n",
      "39          Detroit  Sports Direct     42169.0\n",
      "41            Fargo  Sports Direct     15462.0\n",
      "43         Hartford  Sports Direct     24213.0\n",
      "44         Honolulu    Foot Locker     20888.0\n",
      "48          Houston        Walmart     65072.0\n",
      "50     Indianapolis      West Gear     26332.0\n",
      "51          Jackson    Foot Locker     21221.0\n",
      "55        Knoxville  Sports Direct     64561.0\n",
      "56        Las Vegas      West Gear     51831.0\n",
      "57      Little Rock        Walmart     33743.0\n",
      "60      Los Angeles         Kohl's     74543.0\n",
      "61       Louisville         Amazon     19272.0\n",
      "63       Manchester         Amazon     26088.0\n",
      "67            Miami      West Gear     27710.0\n",
      "68        Milwaukee      West Gear     23950.0\n",
      "69      Minneapolis    Foot Locker     18624.0\n",
      "72      New Orleans      West Gear     47061.0\n",
      "73         New York    Foot Locker     72196.0\n",
      "76           Newark         Kohl's     17741.0\n",
      "79    Oklahoma City      West Gear     27681.0\n",
      "80            Omaha    Foot Locker     16179.0\n",
      "83          Orlando        Walmart     42013.0\n",
      "85     Philadelphia    Foot Locker     25046.0\n",
      "87          Phoenix    Foot Locker     38101.0\n",
      "90         Portland      West Gear     52253.0\n",
      "91       Providence    Foot Locker     18188.0\n",
      "93         Richmond    Foot Locker     41541.0\n",
      "95   Salt Lake City      West Gear     48548.0\n",
      "97    San Francisco      West Gear     82655.0\n",
      "99          Seattle      West Gear     42262.0\n",
      "100     Sioux Falls    Foot Locker     15416.0\n",
      "102       St. Louis    Foot Locker     28877.0\n",
      "105         Wichita         Kohl's     20523.0\n",
      "106      Wilmington    Foot Locker     20924.0\n"
     ]
    }
   ],
   "source": [
    "# Obtenemos el TOP performing ratailer en cada ciudad\n",
    "\n",
    "top_performers = three_columns_sorted.groupby('City').head(1)\n",
    "print(top_performers)"
   ]
  },
  {
   "cell_type": "code",
   "execution_count": 91,
   "id": "b3a28bbb-2bca-43d0-836a-18cae4b4935a",
   "metadata": {},
   "outputs": [
    {
     "name": "stdout",
     "output_type": "stream",
     "text": [
      "TOP performing Retailers in each City: \n"
     ]
    },
    {
     "data": {
      "text/html": [
       "<div>\n",
       "<style scoped>\n",
       "    .dataframe tbody tr th:only-of-type {\n",
       "        vertical-align: middle;\n",
       "    }\n",
       "\n",
       "    .dataframe tbody tr th {\n",
       "        vertical-align: top;\n",
       "    }\n",
       "\n",
       "    .dataframe thead th {\n",
       "        text-align: right;\n",
       "    }\n",
       "</style>\n",
       "<table border=\"1\" class=\"dataframe\">\n",
       "  <thead>\n",
       "    <tr style=\"text-align: right;\">\n",
       "      <th></th>\n",
       "      <th>City</th>\n",
       "      <th>Retailer</th>\n",
       "      <th>Units Sold</th>\n",
       "    </tr>\n",
       "  </thead>\n",
       "  <tbody>\n",
       "    <tr>\n",
       "      <th>1</th>\n",
       "      <td>Albany</td>\n",
       "      <td>West Gear</td>\n",
       "      <td>47133.0</td>\n",
       "    </tr>\n",
       "    <tr>\n",
       "      <th>2</th>\n",
       "      <td>Albuquerque</td>\n",
       "      <td>Kohl's</td>\n",
       "      <td>43752.0</td>\n",
       "    </tr>\n",
       "    <tr>\n",
       "      <th>4</th>\n",
       "      <td>Anchorage</td>\n",
       "      <td>Amazon</td>\n",
       "      <td>26749.0</td>\n",
       "    </tr>\n",
       "    <tr>\n",
       "      <th>7</th>\n",
       "      <td>Atlanta</td>\n",
       "      <td>Sports Direct</td>\n",
       "      <td>41414.0</td>\n",
       "    </tr>\n",
       "    <tr>\n",
       "      <th>8</th>\n",
       "      <td>Baltimore</td>\n",
       "      <td>Foot Locker</td>\n",
       "      <td>9322.0</td>\n",
       "    </tr>\n",
       "  </tbody>\n",
       "</table>\n",
       "</div>"
      ],
      "text/plain": [
       "          City       Retailer  Units Sold\n",
       "1       Albany      West Gear     47133.0\n",
       "2  Albuquerque         Kohl's     43752.0\n",
       "4    Anchorage         Amazon     26749.0\n",
       "7      Atlanta  Sports Direct     41414.0\n",
       "8    Baltimore    Foot Locker      9322.0"
      ]
     },
     "execution_count": 91,
     "metadata": {},
     "output_type": "execute_result"
    }
   ],
   "source": [
    "# Visualizamos los resultados\n",
    "\n",
    "print('TOP performing Retailers in each City: ')\n",
    "top_performers.head()"
   ]
  },
  {
   "cell_type": "code",
   "execution_count": 92,
   "id": "62d32282-ad49-4ebf-bfdf-871483e64643",
   "metadata": {},
   "outputs": [
    {
     "data": {
      "text/html": [
       "<div>\n",
       "<style scoped>\n",
       "    .dataframe tbody tr th:only-of-type {\n",
       "        vertical-align: middle;\n",
       "    }\n",
       "\n",
       "    .dataframe tbody tr th {\n",
       "        vertical-align: top;\n",
       "    }\n",
       "\n",
       "    .dataframe thead th {\n",
       "        text-align: right;\n",
       "    }\n",
       "</style>\n",
       "<table border=\"1\" class=\"dataframe\">\n",
       "  <thead>\n",
       "    <tr style=\"text-align: right;\">\n",
       "      <th></th>\n",
       "      <th>City</th>\n",
       "      <th>Retailer</th>\n",
       "      <th>Units Sold</th>\n",
       "    </tr>\n",
       "  </thead>\n",
       "  <tbody>\n",
       "    <tr>\n",
       "      <th>98</th>\n",
       "      <td>Seattle</td>\n",
       "      <td>Foot Locker</td>\n",
       "      <td>4349.0</td>\n",
       "    </tr>\n",
       "    <tr>\n",
       "      <th>101</th>\n",
       "      <td>Sioux Falls</td>\n",
       "      <td>Sports Direct</td>\n",
       "      <td>7557.0</td>\n",
       "    </tr>\n",
       "    <tr>\n",
       "      <th>103</th>\n",
       "      <td>St. Louis</td>\n",
       "      <td>West Gear</td>\n",
       "      <td>7527.0</td>\n",
       "    </tr>\n",
       "    <tr>\n",
       "      <th>104</th>\n",
       "      <td>Wichita</td>\n",
       "      <td>Foot Locker</td>\n",
       "      <td>8940.0</td>\n",
       "    </tr>\n",
       "    <tr>\n",
       "      <th>107</th>\n",
       "      <td>Wilmington</td>\n",
       "      <td>Kohl's</td>\n",
       "      <td>9351.0</td>\n",
       "    </tr>\n",
       "  </tbody>\n",
       "</table>\n",
       "</div>"
      ],
      "text/plain": [
       "            City       Retailer  Units Sold\n",
       "98       Seattle    Foot Locker      4349.0\n",
       "101  Sioux Falls  Sports Direct      7557.0\n",
       "103    St. Louis      West Gear      7527.0\n",
       "104      Wichita    Foot Locker      8940.0\n",
       "107   Wilmington         Kohl's      9351.0"
      ]
     },
     "execution_count": 92,
     "metadata": {},
     "output_type": "execute_result"
    }
   ],
   "source": [
    "# Obtenemos el Peor performing ratailer en cada ciudad\n",
    "\n",
    "top_performers = three_columns_sorted.groupby('City').tail(1)\n",
    "top_performers.tail()"
   ]
  },
  {
   "cell_type": "markdown",
   "id": "264ef5b0-80b9-48f4-8125-091831aa97ff",
   "metadata": {},
   "source": [
    "Análisis principal de los datos obtenidos:\n",
    "\n",
    "West Gear en Albany y Kohl's en Albuquerque emergen como los de mejor desempeño en sus respectivas ciudades, con West Gear vendiendo 47,133 unidades y Kohl's vendiendo 43,752 unidades .\n",
    "\n",
    "Por el contrario, los de peor desempeño son Foot Locker en Seattle y Sports Direct en Siuox Falls, con ventas de 4.349 y 7.557 unidades respectivamente."
   ]
  },
  {
   "cell_type": "markdown",
   "id": "5ee5483d-23de-44a2-8c91-dd232d43e4c0",
   "metadata": {},
   "source": [
    "#### 3. Análisis del margen de beneficio: ¿El beneficio operativo afecta significativamente las ventas?"
   ]
  },
  {
   "cell_type": "markdown",
   "id": "720fb7dd-f5fe-4dce-a511-5cc55faace6f",
   "metadata": {},
   "source": [
    "Para responder a la pregunta, podemos utilizar tablas y gráficos detallados para un análisis en profundidad o simplemente evaluar la correlación entre el beneficio operativo y las ventas totales; una correlación positiva implica un \"sí\", mientras que una negativa indica un \"no\"."
   ]
  },
  {
   "cell_type": "code",
   "execution_count": 93,
   "id": "14185a9e-2996-4d00-a431-323b3c1d09f8",
   "metadata": {},
   "outputs": [
    {
     "data": {
      "text/plain": [
       "0.9563074349716094"
      ]
     },
     "execution_count": 93,
     "metadata": {},
     "output_type": "execute_result"
    }
   ],
   "source": [
    "# Correlacion entre Operating Profit y Total Sales\n",
    "\n",
    "correlation = data['Operating Profit'].corr(data['Total Sales'])\n",
    "correlation"
   ]
  },
  {
   "cell_type": "code",
   "execution_count": 94,
   "id": "8465f959-8054-41dd-ac6c-2ba2ae982790",
   "metadata": {},
   "outputs": [
    {
     "data": {
      "text/plain": [
       "0.8923793765537961"
      ]
     },
     "execution_count": 94,
     "metadata": {},
     "output_type": "execute_result"
    }
   ],
   "source": [
    "# Correlacion entre Operating Profit y Units Sold\n",
    "\n",
    "correlation = data['Operating Profit'].corr(data['Units Sold'])\n",
    "correlation"
   ]
  },
  {
   "cell_type": "markdown",
   "id": "247ee648-bc08-4715-a2c0-2cf5f785060b",
   "metadata": {},
   "source": [
    "Además, para añadir más, también existe una correlación positiva entre las unidades vendidas y el beneficio operativo.\n",
    "\n",
    "- La correlación es positiva, 0,9563.\n",
    "- Esto muestra que a medida que aumentan las ventas totales, el beneficio operativo también aumenta.\n",
    "- Entonces la respuesta a la pregunta 3 es SÍ. La utilidad operativa afecta las unidades vendidas de manera positiva"
   ]
  },
  {
   "cell_type": "markdown",
   "id": "4a79867c-305a-4bff-bfa9-60110c8d4558",
   "metadata": {},
   "source": [
    "Análisis principal de los datos obtenidos:\n",
    "\n",
    "Existe una correlación de 0,9563 entre la utilidad operativa y las ventas totales, y una correlación de 0,8923 entre la utilidad operativa y las unidades vendidas. Estos altos valores de correlación indican que la utilidad operativa afecta significativamente el desempeño de las ventas.\n",
    "\n",
    "Una ganancia operativa sólida está estrechamente relacionada con mayores ventas totales y una mayor cantidad de unidades vendidas, lo que sugiere que una gestión operativa eficiente juega un papel crucial para impulsar el éxito de las ventas."
   ]
  },
  {
   "cell_type": "markdown",
   "id": "f7bfdfe0-ebd2-42bd-931b-1ba4b84014d2",
   "metadata": {},
   "source": [
    "#### 4. Eficiencia de los métodos de venta: ¿ Qué método de venta es más efectivo: en la tienda o en línea?"
   ]
  },
  {
   "cell_type": "markdown",
   "id": "9b4e781d-88a8-438b-810b-c03b87941834",
   "metadata": {},
   "source": [
    "Esta cuestión la podemos responden e varios pasos, primeramente vamos a calcular las ventas totales y las uds. vendidas por Region. Posteriormente añadiremos una nueva columna que nos desglosará el Estado dentro de cada region y por último, añadiremos una nueva columna que nos desglosará el método de venta."
   ]
  },
  {
   "cell_type": "code",
   "execution_count": 95,
   "id": "af690f98-038f-4974-8623-7f075b5bc8b2",
   "metadata": {},
   "outputs": [
    {
     "data": {
      "text/html": [
       "<div>\n",
       "<style scoped>\n",
       "    .dataframe tbody tr th:only-of-type {\n",
       "        vertical-align: middle;\n",
       "    }\n",
       "\n",
       "    .dataframe tbody tr th {\n",
       "        vertical-align: top;\n",
       "    }\n",
       "\n",
       "    .dataframe thead th {\n",
       "        text-align: right;\n",
       "    }\n",
       "</style>\n",
       "<table border=\"1\" class=\"dataframe\">\n",
       "  <thead>\n",
       "    <tr style=\"text-align: right;\">\n",
       "      <th></th>\n",
       "      <th>Total Sales</th>\n",
       "      <th>Units Sold</th>\n",
       "    </tr>\n",
       "    <tr>\n",
       "      <th>Region</th>\n",
       "      <th></th>\n",
       "      <th></th>\n",
       "    </tr>\n",
       "  </thead>\n",
       "  <tbody>\n",
       "    <tr>\n",
       "      <th>West</th>\n",
       "      <td>269943182.0</td>\n",
       "      <td>686985.0</td>\n",
       "    </tr>\n",
       "    <tr>\n",
       "      <th>Northeast</th>\n",
       "      <td>186324067.0</td>\n",
       "      <td>501279.0</td>\n",
       "    </tr>\n",
       "    <tr>\n",
       "      <th>Southeast</th>\n",
       "      <td>163171236.0</td>\n",
       "      <td>407000.0</td>\n",
       "    </tr>\n",
       "    <tr>\n",
       "      <th>South</th>\n",
       "      <td>144663181.0</td>\n",
       "      <td>492260.0</td>\n",
       "    </tr>\n",
       "    <tr>\n",
       "      <th>Midwest</th>\n",
       "      <td>135800459.0</td>\n",
       "      <td>391337.0</td>\n",
       "    </tr>\n",
       "  </tbody>\n",
       "</table>\n",
       "</div>"
      ],
      "text/plain": [
       "           Total Sales  Units Sold\n",
       "Region                            \n",
       "West       269943182.0    686985.0\n",
       "Northeast  186324067.0    501279.0\n",
       "Southeast  163171236.0    407000.0\n",
       "South      144663181.0    492260.0\n",
       "Midwest    135800459.0    391337.0"
      ]
     },
     "execution_count": 95,
     "metadata": {},
     "output_type": "execute_result"
    }
   ],
   "source": [
    "# Agregando el Total Sales y Units Sold por cada Region\n",
    "\n",
    "region_sales = data.groupby('Region').agg({'Total Sales': 'sum', 'Units Sold': 'sum'})\n",
    "\n",
    "# Ordenamos de forma ascendente las Total Sales por Region\n",
    "\n",
    "region_sales = region_sales.sort_values(by='Total Sales', ascending=False).head()\n",
    "region_sales\n"
   ]
  },
  {
   "cell_type": "code",
   "execution_count": 96,
   "id": "1742a574-b07a-4cc8-a9fa-76bfffa2d2bb",
   "metadata": {},
   "outputs": [
    {
     "name": "stderr",
     "output_type": "stream",
     "text": [
      "C:\\Users\\fvald\\anaconda3\\envs\\notebook\\Lib\\site-packages\\seaborn\\_oldcore.py:1119: FutureWarning: use_inf_as_na option is deprecated and will be removed in a future version. Convert inf values to NaN before operating instead.\n",
      "  with pd.option_context('mode.use_inf_as_na', True):\n",
      "C:\\Users\\fvald\\anaconda3\\envs\\notebook\\Lib\\site-packages\\seaborn\\_oldcore.py:1119: FutureWarning: use_inf_as_na option is deprecated and will be removed in a future version. Convert inf values to NaN before operating instead.\n",
      "  with pd.option_context('mode.use_inf_as_na', True):\n"
     ]
    },
    {
     "data": {
      "image/png": "[encoded data removed]",
      "text/plain": [
       "<Figure size 1200x600 with 1 Axes>"
      ]
     },
     "metadata": {},
     "output_type": "display_data"
    }
   ],
   "source": [
    "plt.figure(figsize=(12, 6))\n",
    "sns.lineplot(data=region_sales)\n",
    "plt.title(\"Total Sales vs Region\")\n",
    "plt.xlabel(\"Region\")\n",
    "plt.ylabel(\"Total Sales\")\n",
    "plt.show()"
   ]
  },
  {
   "cell_type": "code",
   "execution_count": 97,
   "id": "ac16d81f-47aa-4e20-b6c8-0cfc6f652ff1",
   "metadata": {},
   "outputs": [
    {
     "data": {
      "text/html": [
       "<div>\n",
       "<style scoped>\n",
       "    .dataframe tbody tr th:only-of-type {\n",
       "        vertical-align: middle;\n",
       "    }\n",
       "\n",
       "    .dataframe tbody tr th {\n",
       "        vertical-align: top;\n",
       "    }\n",
       "\n",
       "    .dataframe thead th {\n",
       "        text-align: right;\n",
       "    }\n",
       "</style>\n",
       "<table border=\"1\" class=\"dataframe\">\n",
       "  <thead>\n",
       "    <tr style=\"text-align: right;\">\n",
       "      <th></th>\n",
       "      <th></th>\n",
       "      <th>Total Sales</th>\n",
       "      <th>Units Sold</th>\n",
       "    </tr>\n",
       "    <tr>\n",
       "      <th>Region</th>\n",
       "      <th>State</th>\n",
       "      <th></th>\n",
       "      <th></th>\n",
       "    </tr>\n",
       "  </thead>\n",
       "  <tbody>\n",
       "    <tr>\n",
       "      <th>Northeast</th>\n",
       "      <th>New York</th>\n",
       "      <td>64229039.0</td>\n",
       "      <td>169140.0</td>\n",
       "    </tr>\n",
       "    <tr>\n",
       "      <th>West</th>\n",
       "      <th>California</th>\n",
       "      <td>60174133.0</td>\n",
       "      <td>163284.0</td>\n",
       "    </tr>\n",
       "    <tr>\n",
       "      <th>Southeast</th>\n",
       "      <th>Florida</th>\n",
       "      <td>59283714.0</td>\n",
       "      <td>133430.0</td>\n",
       "    </tr>\n",
       "    <tr>\n",
       "      <th>South</th>\n",
       "      <th>Texas</th>\n",
       "      <td>46359746.0</td>\n",
       "      <td>159500.0</td>\n",
       "    </tr>\n",
       "    <tr>\n",
       "      <th>Southeast</th>\n",
       "      <th>South Carolina</th>\n",
       "      <td>29285637.0</td>\n",
       "      <td>72610.0</td>\n",
       "    </tr>\n",
       "  </tbody>\n",
       "</table>\n",
       "</div>"
      ],
      "text/plain": [
       "                          Total Sales  Units Sold\n",
       "Region    State                                  \n",
       "Northeast New York         64229039.0    169140.0\n",
       "West      California       60174133.0    163284.0\n",
       "Southeast Florida          59283714.0    133430.0\n",
       "South     Texas            46359746.0    159500.0\n",
       "Southeast South Carolina   29285637.0     72610.0"
      ]
     },
     "execution_count": 97,
     "metadata": {},
     "output_type": "execute_result"
    }
   ],
   "source": [
    "# Agregando el Total Sales y Units Sold por cada Region y Estado\n",
    "\n",
    "region_state_sales = data.groupby(['Region', 'State']).agg({'Total Sales': 'sum', 'Units Sold': 'sum'})\n",
    "\n",
    "# Ordenamos de forma ascendente las Total Sales por Region y Estado\n",
    "\n",
    "region_state_sales = region_state_sales.sort_values(by='Total Sales', ascending=False).head()\n",
    "region_state_sales"
   ]
  },
  {
   "cell_type": "code",
   "execution_count": 98,
   "id": "69ad2559-6bae-41d1-ab53-2e6d170958c0",
   "metadata": {},
   "outputs": [
    {
     "data": {
      "text/html": [
       "<div>\n",
       "<style scoped>\n",
       "    .dataframe tbody tr th:only-of-type {\n",
       "        vertical-align: middle;\n",
       "    }\n",
       "\n",
       "    .dataframe tbody tr th {\n",
       "        vertical-align: top;\n",
       "    }\n",
       "\n",
       "    .dataframe thead th {\n",
       "        text-align: right;\n",
       "    }\n",
       "</style>\n",
       "<table border=\"1\" class=\"dataframe\">\n",
       "  <thead>\n",
       "    <tr style=\"text-align: right;\">\n",
       "      <th></th>\n",
       "      <th></th>\n",
       "      <th></th>\n",
       "      <th>Total Sales</th>\n",
       "      <th>Units Sold</th>\n",
       "      <th>Operating Profit</th>\n",
       "    </tr>\n",
       "    <tr>\n",
       "      <th>Region</th>\n",
       "      <th>State</th>\n",
       "      <th>Sales Method</th>\n",
       "      <th></th>\n",
       "      <th></th>\n",
       "      <th></th>\n",
       "    </tr>\n",
       "  </thead>\n",
       "  <tbody>\n",
       "    <tr>\n",
       "      <th>West</th>\n",
       "      <th>California</th>\n",
       "      <th>Outlet</th>\n",
       "      <td>58685388.0</td>\n",
       "      <td>135082.0</td>\n",
       "      <td>18649316.19</td>\n",
       "    </tr>\n",
       "    <tr>\n",
       "      <th>Southeast</th>\n",
       "      <th>Florida</th>\n",
       "      <th>In-store</th>\n",
       "      <td>51805000.0</td>\n",
       "      <td>86335.0</td>\n",
       "      <td>18310750.00</td>\n",
       "    </tr>\n",
       "    <tr>\n",
       "      <th>South</th>\n",
       "      <th>Texas</th>\n",
       "      <th>Outlet</th>\n",
       "      <td>45216267.0</td>\n",
       "      <td>132221.0</td>\n",
       "      <td>18087500.74</td>\n",
       "    </tr>\n",
       "    <tr>\n",
       "      <th>Northeast</th>\n",
       "      <th>New York</th>\n",
       "      <th>Outlet</th>\n",
       "      <td>35277364.0</td>\n",
       "      <td>85667.0</td>\n",
       "      <td>12121558.89</td>\n",
       "    </tr>\n",
       "    <tr>\n",
       "      <th>Southeast</th>\n",
       "      <th>South Carolina</th>\n",
       "      <th>Online</th>\n",
       "      <td>29285637.0</td>\n",
       "      <td>72610.0</td>\n",
       "      <td>11324236.39</td>\n",
       "    </tr>\n",
       "  </tbody>\n",
       "</table>\n",
       "</div>"
      ],
      "text/plain": [
       "                                       Total Sales  Units Sold  \\\n",
       "Region    State          Sales Method                            \n",
       "West      California     Outlet         58685388.0    135082.0   \n",
       "Southeast Florida        In-store       51805000.0     86335.0   \n",
       "South     Texas          Outlet         45216267.0    132221.0   \n",
       "Northeast New York       Outlet         35277364.0     85667.0   \n",
       "Southeast South Carolina Online         29285637.0     72610.0   \n",
       "\n",
       "                                       Operating Profit  \n",
       "Region    State          Sales Method                    \n",
       "West      California     Outlet             18649316.19  \n",
       "Southeast Florida        In-store           18310750.00  \n",
       "South     Texas          Outlet             18087500.74  \n",
       "Northeast New York       Outlet             12121558.89  \n",
       "Southeast South Carolina Online             11324236.39  "
      ]
     },
     "execution_count": 98,
     "metadata": {},
     "output_type": "execute_result"
    }
   ],
   "source": [
    "# Agregando el Total Sales y Units Sold por cada Region , Estado y Metodo de Venta\n",
    "\n",
    "region_state_method_sales = data.groupby(['Region', 'State', 'Sales Method']).agg({'Total Sales': 'sum', 'Units Sold': 'sum', 'Operating Profit': 'sum'})\n",
    "\n",
    "# Ordenamos de forma ascendente las Total Sales por Region, Estado y Metodo de Venta\n",
    "\n",
    "region_state_method_sales = region_state_method_sales.sort_values(by='Total Sales', ascending=False).head()\n",
    "region_state_method_sales"
   ]
  },
  {
   "cell_type": "markdown",
   "id": "b7950152-e6d4-4ee5-8c36-67a9a5ac9d72",
   "metadata": {},
   "source": [
    "Análisis principal de los datos obtenidos:\n",
    "\n",
    "En términos de ventas totales y ganancias operativas : el método de ventas en la tienda (Outlet) es el más efectivo y genera las mayores ventas totales y ganancias operativas.\n",
    "\n",
    "En términos de margen operativo : las ventas online son las más efectivas, lo que indica que aunque las ventas totales y el beneficio operativo son menores que en las tiendas, la rentabilidad relativa a las ventas generadas es mayor.\n",
    "\n",
    "A la hora de decidir qué método de venta es más eficaz, depende de lo que priorice el negocio. Si la atención se centra en maximizar los ingresos y las ganancias totales, entonces las ventas en la tienda son más efectivas. Sin embargo, si la atención se centra en la eficiencia en términos de ganancias generadas por dólar de ventas, entonces las ventas en línea son más efectivas."
   ]
  },
  {
   "cell_type": "markdown",
   "id": "f4aba09c-03e1-43d8-af54-f96cb2d8f839",
   "metadata": {},
   "source": [
    "#### 5. Optimización de precios: ¿Existe algún rango de precios específico que consiga mejores ventas que otros?"
   ]
  },
  {
   "cell_type": "code",
   "execution_count": 99,
   "id": "837e9283-8197-4169-974a-6554e5d8232e",
   "metadata": {},
   "outputs": [
    {
     "name": "stderr",
     "output_type": "stream",
     "text": [
      "C:\\Users\\fvald\\AppData\\Local\\Temp\\ipykernel_9096\\1484101955.py:8: FutureWarning: The default of observed=False is deprecated and will be changed to True in a future version of pandas. Pass observed=False to retain current behavior or observed=True to adopt the future default and silence this warning.\n",
      "  sales_by_price_range = data.groupby('Price Range')['Total Sales'].sum().reset_index()\n"
     ]
    },
    {
     "data": {
      "text/html": [
       "<div>\n",
       "<style scoped>\n",
       "    .dataframe tbody tr th:only-of-type {\n",
       "        vertical-align: middle;\n",
       "    }\n",
       "\n",
       "    .dataframe tbody tr th {\n",
       "        vertical-align: top;\n",
       "    }\n",
       "\n",
       "    .dataframe thead th {\n",
       "        text-align: right;\n",
       "    }\n",
       "</style>\n",
       "<table border=\"1\" class=\"dataframe\">\n",
       "  <thead>\n",
       "    <tr style=\"text-align: right;\">\n",
       "      <th></th>\n",
       "      <th>Price Range</th>\n",
       "      <th>Total Sales</th>\n",
       "    </tr>\n",
       "  </thead>\n",
       "  <tbody>\n",
       "    <tr>\n",
       "      <th>4</th>\n",
       "      <td>(40, 50]</td>\n",
       "      <td>220666307.0</td>\n",
       "    </tr>\n",
       "    <tr>\n",
       "      <th>5</th>\n",
       "      <td>(50, 60]</td>\n",
       "      <td>210865002.0</td>\n",
       "    </tr>\n",
       "    <tr>\n",
       "      <th>6</th>\n",
       "      <td>(60, 70]</td>\n",
       "      <td>190679285.0</td>\n",
       "    </tr>\n",
       "    <tr>\n",
       "      <th>3</th>\n",
       "      <td>(30, 40]</td>\n",
       "      <td>134726187.0</td>\n",
       "    </tr>\n",
       "    <tr>\n",
       "      <th>7</th>\n",
       "      <td>(70, 80]</td>\n",
       "      <td>52787579.0</td>\n",
       "    </tr>\n",
       "    <tr>\n",
       "      <th>8</th>\n",
       "      <td>(80, 90]</td>\n",
       "      <td>33547420.0</td>\n",
       "    </tr>\n",
       "    <tr>\n",
       "      <th>2</th>\n",
       "      <td>(20, 30]</td>\n",
       "      <td>29636023.0</td>\n",
       "    </tr>\n",
       "    <tr>\n",
       "      <th>9</th>\n",
       "      <td>(90, 100]</td>\n",
       "      <td>14468685.0</td>\n",
       "    </tr>\n",
       "    <tr>\n",
       "      <th>1</th>\n",
       "      <td>(10, 20]</td>\n",
       "      <td>6574478.0</td>\n",
       "    </tr>\n",
       "    <tr>\n",
       "      <th>11</th>\n",
       "      <td>(110, 120]</td>\n",
       "      <td>3080000.0</td>\n",
       "    </tr>\n",
       "    <tr>\n",
       "      <th>10</th>\n",
       "      <td>(100, 110]</td>\n",
       "      <td>2785706.0</td>\n",
       "    </tr>\n",
       "    <tr>\n",
       "      <th>0</th>\n",
       "      <td>(0, 10]</td>\n",
       "      <td>85453.0</td>\n",
       "    </tr>\n",
       "    <tr>\n",
       "      <th>12</th>\n",
       "      <td>(120, 130]</td>\n",
       "      <td>0.0</td>\n",
       "    </tr>\n",
       "  </tbody>\n",
       "</table>\n",
       "</div>"
      ],
      "text/plain": [
       "   Price Range  Total Sales\n",
       "4     (40, 50]  220666307.0\n",
       "5     (50, 60]  210865002.0\n",
       "6     (60, 70]  190679285.0\n",
       "3     (30, 40]  134726187.0\n",
       "7     (70, 80]   52787579.0\n",
       "8     (80, 90]   33547420.0\n",
       "2     (20, 30]   29636023.0\n",
       "9    (90, 100]   14468685.0\n",
       "1     (10, 20]    6574478.0\n",
       "11  (110, 120]    3080000.0\n",
       "10  (100, 110]    2785706.0\n",
       "0      (0, 10]      85453.0\n",
       "12  (120, 130]          0.0"
      ]
     },
     "execution_count": 99,
     "metadata": {},
     "output_type": "execute_result"
    }
   ],
   "source": [
    "# Definir los rangos de precios\n",
    "bins = [0, 10, 20, 30, 40, 50, 60, 70, 80, 90, 100, 110, 120, 130]\n",
    "\n",
    "# Crear una nueva columna para el rango de precios\n",
    "data['Price Range'] = pd.cut(data['Price per Unit'], bins)\n",
    "\n",
    "# Agrupar por rango de precios y sumar las ventas totales\n",
    "sales_by_price_range = data.groupby('Price Range')['Total Sales'].sum().reset_index()\n",
    "\n",
    "# Ordenar los resultados para ver qué rango de precios tiene las mayores ventas\n",
    "sorted_sales_by_price_range = sales_by_price_range.sort_values(by='Total Sales', ascending=False)\n",
    "\n",
    "# Los resultados se ordenan según las ventas totales\n",
    "sorted_sales_by_price_range"
   ]
  },
  {
   "cell_type": "markdown",
   "id": "76983306-d542-4398-8208-2d05e56afab7",
   "metadata": {},
   "source": [
    "Analisis principal de los datos obtenidos\n",
    "\n",
    "1. Las ventas totales más altas se encuentran en el rango de precios de 40 a 50 ($220,666,307), lo que indica que los productos con precios dentro de este rango son muy populares o tienen una gran demanda.\n",
    "2. Las siguientes ventas más altas se encuentran en los rangos de precios de 50 a 60 (210.865.002) y de 60 a 70 (190.679.285). Estas gamas también parecen ser efectivas en términos de ventas.\n",
    "3. A medida que el precio aumenta más allá 70 a 52.787.579.\n",
    "4. Las cifras de ventas más bajas se observan en el extremo inferior del espectro de precios."
   ]
  },
  {
   "cell_type": "markdown",
   "id": "86031083-cf09-4293-aa39-86d2a28cf032",
   "metadata": {},
   "source": [
    "#### 6. Optimización del Portafolio de Productos: Determinar qué productos son más rentables, segmentados por ubicación."
   ]
  },
  {
   "cell_type": "code",
   "execution_count": 101,
   "id": "313f78be-a50c-4521-9779-feb6f483a586",
   "metadata": {},
   "outputs": [
    {
     "data": {
      "text/html": [
       "<div>\n",
       "<style scoped>\n",
       "    .dataframe tbody tr th:only-of-type {\n",
       "        vertical-align: middle;\n",
       "    }\n",
       "\n",
       "    .dataframe tbody tr th {\n",
       "        vertical-align: top;\n",
       "    }\n",
       "\n",
       "    .dataframe thead th {\n",
       "        text-align: right;\n",
       "    }\n",
       "</style>\n",
       "<table border=\"1\" class=\"dataframe\">\n",
       "  <thead>\n",
       "    <tr style=\"text-align: right;\">\n",
       "      <th></th>\n",
       "      <th>City</th>\n",
       "      <th>Product</th>\n",
       "      <th>Operating Profit</th>\n",
       "      <th>Total Sales</th>\n",
       "    </tr>\n",
       "  </thead>\n",
       "  <tbody>\n",
       "    <tr>\n",
       "      <th>0</th>\n",
       "      <td>Albany</td>\n",
       "      <td>Men's Apparel</td>\n",
       "      <td>1354932.08</td>\n",
       "      <td>3873553.0</td>\n",
       "    </tr>\n",
       "    <tr>\n",
       "      <th>1</th>\n",
       "      <td>Albany</td>\n",
       "      <td>Men's Athletic Footwear</td>\n",
       "      <td>1329200.59</td>\n",
       "      <td>3829596.0</td>\n",
       "    </tr>\n",
       "    <tr>\n",
       "      <th>2</th>\n",
       "      <td>Albany</td>\n",
       "      <td>Men's Street Footwear</td>\n",
       "      <td>2649927.25</td>\n",
       "      <td>5773987.0</td>\n",
       "    </tr>\n",
       "    <tr>\n",
       "      <th>3</th>\n",
       "      <td>Albany</td>\n",
       "      <td>Women's Apparel</td>\n",
       "      <td>2343150.19</td>\n",
       "      <td>4779109.0</td>\n",
       "    </tr>\n",
       "    <tr>\n",
       "      <th>4</th>\n",
       "      <td>Albany</td>\n",
       "      <td>Women's Athletic Footwear</td>\n",
       "      <td>908094.68</td>\n",
       "      <td>2973011.0</td>\n",
       "    </tr>\n",
       "    <tr>\n",
       "      <th>...</th>\n",
       "      <td>...</td>\n",
       "      <td>...</td>\n",
       "      <td>...</td>\n",
       "      <td>...</td>\n",
       "    </tr>\n",
       "    <tr>\n",
       "      <th>307</th>\n",
       "      <td>Wilmington</td>\n",
       "      <td>Men's Athletic Footwear</td>\n",
       "      <td>664729.64</td>\n",
       "      <td>1884159.0</td>\n",
       "    </tr>\n",
       "    <tr>\n",
       "      <th>308</th>\n",
       "      <td>Wilmington</td>\n",
       "      <td>Men's Street Footwear</td>\n",
       "      <td>1244055.88</td>\n",
       "      <td>3522197.0</td>\n",
       "    </tr>\n",
       "    <tr>\n",
       "      <th>309</th>\n",
       "      <td>Wilmington</td>\n",
       "      <td>Women's Apparel</td>\n",
       "      <td>1016327.95</td>\n",
       "      <td>2520405.0</td>\n",
       "    </tr>\n",
       "    <tr>\n",
       "      <th>310</th>\n",
       "      <td>Wilmington</td>\n",
       "      <td>Women's Athletic Footwear</td>\n",
       "      <td>500967.12</td>\n",
       "      <td>1242580.0</td>\n",
       "    </tr>\n",
       "    <tr>\n",
       "      <th>311</th>\n",
       "      <td>Wilmington</td>\n",
       "      <td>Women's Street Footwear</td>\n",
       "      <td>605627.89</td>\n",
       "      <td>1502297.0</td>\n",
       "    </tr>\n",
       "  </tbody>\n",
       "</table>\n",
       "<p>312 rows × 4 columns</p>\n",
       "</div>"
      ],
      "text/plain": [
       "           City                    Product  Operating Profit  Total Sales\n",
       "0        Albany              Men's Apparel        1354932.08    3873553.0\n",
       "1        Albany    Men's Athletic Footwear        1329200.59    3829596.0\n",
       "2        Albany      Men's Street Footwear        2649927.25    5773987.0\n",
       "3        Albany            Women's Apparel        2343150.19    4779109.0\n",
       "4        Albany  Women's Athletic Footwear         908094.68    2973011.0\n",
       "..          ...                        ...               ...          ...\n",
       "307  Wilmington    Men's Athletic Footwear         664729.64    1884159.0\n",
       "308  Wilmington      Men's Street Footwear        1244055.88    3522197.0\n",
       "309  Wilmington            Women's Apparel        1016327.95    2520405.0\n",
       "310  Wilmington  Women's Athletic Footwear         500967.12    1242580.0\n",
       "311  Wilmington    Women's Street Footwear         605627.89    1502297.0\n",
       "\n",
       "[312 rows x 4 columns]"
      ]
     },
     "execution_count": 101,
     "metadata": {},
     "output_type": "execute_result"
    }
   ],
   "source": [
    "# Agrupar datos por ubicación y producto\n",
    "\n",
    "grouped_data = data.groupby(['City', 'Product']).agg({'Operating Profit': 'sum', 'Total Sales': 'sum'}).reset_index()\n",
    "grouped_data"
   ]
  },
  {
   "cell_type": "code",
   "execution_count": 102,
   "id": "8ff712ec-2348-4b63-8a79-c7e63e242fd9",
   "metadata": {},
   "outputs": [
    {
     "data": {
      "text/html": [
       "<div>\n",
       "<style scoped>\n",
       "    .dataframe tbody tr th:only-of-type {\n",
       "        vertical-align: middle;\n",
       "    }\n",
       "\n",
       "    .dataframe tbody tr th {\n",
       "        vertical-align: top;\n",
       "    }\n",
       "\n",
       "    .dataframe thead th {\n",
       "        text-align: right;\n",
       "    }\n",
       "</style>\n",
       "<table border=\"1\" class=\"dataframe\">\n",
       "  <thead>\n",
       "    <tr style=\"text-align: right;\">\n",
       "      <th></th>\n",
       "      <th>City</th>\n",
       "      <th>Product</th>\n",
       "      <th>Operating Profit</th>\n",
       "      <th>Total Sales</th>\n",
       "      <th>Profit Margin</th>\n",
       "    </tr>\n",
       "  </thead>\n",
       "  <tbody>\n",
       "    <tr>\n",
       "      <th>0</th>\n",
       "      <td>Albany</td>\n",
       "      <td>Men's Apparel</td>\n",
       "      <td>1354932.08</td>\n",
       "      <td>3873553.0</td>\n",
       "      <td>0.349791</td>\n",
       "    </tr>\n",
       "    <tr>\n",
       "      <th>1</th>\n",
       "      <td>Albany</td>\n",
       "      <td>Men's Athletic Footwear</td>\n",
       "      <td>1329200.59</td>\n",
       "      <td>3829596.0</td>\n",
       "      <td>0.347086</td>\n",
       "    </tr>\n",
       "    <tr>\n",
       "      <th>2</th>\n",
       "      <td>Albany</td>\n",
       "      <td>Men's Street Footwear</td>\n",
       "      <td>2649927.25</td>\n",
       "      <td>5773987.0</td>\n",
       "      <td>0.458942</td>\n",
       "    </tr>\n",
       "    <tr>\n",
       "      <th>3</th>\n",
       "      <td>Albany</td>\n",
       "      <td>Women's Apparel</td>\n",
       "      <td>2343150.19</td>\n",
       "      <td>4779109.0</td>\n",
       "      <td>0.490290</td>\n",
       "    </tr>\n",
       "    <tr>\n",
       "      <th>4</th>\n",
       "      <td>Albany</td>\n",
       "      <td>Women's Athletic Footwear</td>\n",
       "      <td>908094.68</td>\n",
       "      <td>2973011.0</td>\n",
       "      <td>0.305446</td>\n",
       "    </tr>\n",
       "    <tr>\n",
       "      <th>...</th>\n",
       "      <td>...</td>\n",
       "      <td>...</td>\n",
       "      <td>...</td>\n",
       "      <td>...</td>\n",
       "      <td>...</td>\n",
       "    </tr>\n",
       "    <tr>\n",
       "      <th>307</th>\n",
       "      <td>Wilmington</td>\n",
       "      <td>Men's Athletic Footwear</td>\n",
       "      <td>664729.64</td>\n",
       "      <td>1884159.0</td>\n",
       "      <td>0.352799</td>\n",
       "    </tr>\n",
       "    <tr>\n",
       "      <th>308</th>\n",
       "      <td>Wilmington</td>\n",
       "      <td>Men's Street Footwear</td>\n",
       "      <td>1244055.88</td>\n",
       "      <td>3522197.0</td>\n",
       "      <td>0.353205</td>\n",
       "    </tr>\n",
       "    <tr>\n",
       "      <th>309</th>\n",
       "      <td>Wilmington</td>\n",
       "      <td>Women's Apparel</td>\n",
       "      <td>1016327.95</td>\n",
       "      <td>2520405.0</td>\n",
       "      <td>0.403240</td>\n",
       "    </tr>\n",
       "    <tr>\n",
       "      <th>310</th>\n",
       "      <td>Wilmington</td>\n",
       "      <td>Women's Athletic Footwear</td>\n",
       "      <td>500967.12</td>\n",
       "      <td>1242580.0</td>\n",
       "      <td>0.403167</td>\n",
       "    </tr>\n",
       "    <tr>\n",
       "      <th>311</th>\n",
       "      <td>Wilmington</td>\n",
       "      <td>Women's Street Footwear</td>\n",
       "      <td>605627.89</td>\n",
       "      <td>1502297.0</td>\n",
       "      <td>0.403135</td>\n",
       "    </tr>\n",
       "  </tbody>\n",
       "</table>\n",
       "<p>312 rows × 5 columns</p>\n",
       "</div>"
      ],
      "text/plain": [
       "           City                    Product  Operating Profit  Total Sales  \\\n",
       "0        Albany              Men's Apparel        1354932.08    3873553.0   \n",
       "1        Albany    Men's Athletic Footwear        1329200.59    3829596.0   \n",
       "2        Albany      Men's Street Footwear        2649927.25    5773987.0   \n",
       "3        Albany            Women's Apparel        2343150.19    4779109.0   \n",
       "4        Albany  Women's Athletic Footwear         908094.68    2973011.0   \n",
       "..          ...                        ...               ...          ...   \n",
       "307  Wilmington    Men's Athletic Footwear         664729.64    1884159.0   \n",
       "308  Wilmington      Men's Street Footwear        1244055.88    3522197.0   \n",
       "309  Wilmington            Women's Apparel        1016327.95    2520405.0   \n",
       "310  Wilmington  Women's Athletic Footwear         500967.12    1242580.0   \n",
       "311  Wilmington    Women's Street Footwear         605627.89    1502297.0   \n",
       "\n",
       "     Profit Margin  \n",
       "0         0.349791  \n",
       "1         0.347086  \n",
       "2         0.458942  \n",
       "3         0.490290  \n",
       "4         0.305446  \n",
       "..             ...  \n",
       "307       0.352799  \n",
       "308       0.353205  \n",
       "309       0.403240  \n",
       "310       0.403167  \n",
       "311       0.403135  \n",
       "\n",
       "[312 rows x 5 columns]"
      ]
     },
     "execution_count": 102,
     "metadata": {},
     "output_type": "execute_result"
    }
   ],
   "source": [
    "# Calcular el margen de beneficio\n",
    "\n",
    "grouped_data['Profit Margin'] = grouped_data['Operating Profit'] / grouped_data['Total Sales']\n",
    "grouped_data"
   ]
  },
  {
   "cell_type": "code",
   "execution_count": 103,
   "id": "ca725846-5a56-45e2-9472-dca6b6ab86ff",
   "metadata": {},
   "outputs": [
    {
     "data": {
      "text/html": [
       "<div>\n",
       "<style scoped>\n",
       "    .dataframe tbody tr th:only-of-type {\n",
       "        vertical-align: middle;\n",
       "    }\n",
       "\n",
       "    .dataframe tbody tr th {\n",
       "        vertical-align: top;\n",
       "    }\n",
       "\n",
       "    .dataframe thead th {\n",
       "        text-align: right;\n",
       "    }\n",
       "</style>\n",
       "<table border=\"1\" class=\"dataframe\">\n",
       "  <thead>\n",
       "    <tr style=\"text-align: right;\">\n",
       "      <th></th>\n",
       "      <th>City</th>\n",
       "      <th>Product</th>\n",
       "      <th>Operating Profit</th>\n",
       "      <th>Total Sales</th>\n",
       "      <th>Profit Margin</th>\n",
       "    </tr>\n",
       "  </thead>\n",
       "  <tbody>\n",
       "    <tr>\n",
       "      <th>3</th>\n",
       "      <td>Albany</td>\n",
       "      <td>Women's Apparel</td>\n",
       "      <td>2343150.19</td>\n",
       "      <td>4779109.0</td>\n",
       "      <td>0.490290</td>\n",
       "    </tr>\n",
       "    <tr>\n",
       "      <th>2</th>\n",
       "      <td>Albany</td>\n",
       "      <td>Men's Street Footwear</td>\n",
       "      <td>2649927.25</td>\n",
       "      <td>5773987.0</td>\n",
       "      <td>0.458942</td>\n",
       "    </tr>\n",
       "    <tr>\n",
       "      <th>0</th>\n",
       "      <td>Albany</td>\n",
       "      <td>Men's Apparel</td>\n",
       "      <td>1354932.08</td>\n",
       "      <td>3873553.0</td>\n",
       "      <td>0.349791</td>\n",
       "    </tr>\n",
       "    <tr>\n",
       "      <th>1</th>\n",
       "      <td>Albany</td>\n",
       "      <td>Men's Athletic Footwear</td>\n",
       "      <td>1329200.59</td>\n",
       "      <td>3829596.0</td>\n",
       "      <td>0.347086</td>\n",
       "    </tr>\n",
       "    <tr>\n",
       "      <th>4</th>\n",
       "      <td>Albany</td>\n",
       "      <td>Women's Athletic Footwear</td>\n",
       "      <td>908094.68</td>\n",
       "      <td>2973011.0</td>\n",
       "      <td>0.305446</td>\n",
       "    </tr>\n",
       "    <tr>\n",
       "      <th>...</th>\n",
       "      <td>...</td>\n",
       "      <td>...</td>\n",
       "      <td>...</td>\n",
       "      <td>...</td>\n",
       "      <td>...</td>\n",
       "    </tr>\n",
       "    <tr>\n",
       "      <th>310</th>\n",
       "      <td>Wilmington</td>\n",
       "      <td>Women's Athletic Footwear</td>\n",
       "      <td>500967.12</td>\n",
       "      <td>1242580.0</td>\n",
       "      <td>0.403167</td>\n",
       "    </tr>\n",
       "    <tr>\n",
       "      <th>311</th>\n",
       "      <td>Wilmington</td>\n",
       "      <td>Women's Street Footwear</td>\n",
       "      <td>605627.89</td>\n",
       "      <td>1502297.0</td>\n",
       "      <td>0.403135</td>\n",
       "    </tr>\n",
       "    <tr>\n",
       "      <th>308</th>\n",
       "      <td>Wilmington</td>\n",
       "      <td>Men's Street Footwear</td>\n",
       "      <td>1244055.88</td>\n",
       "      <td>3522197.0</td>\n",
       "      <td>0.353205</td>\n",
       "    </tr>\n",
       "    <tr>\n",
       "      <th>307</th>\n",
       "      <td>Wilmington</td>\n",
       "      <td>Men's Athletic Footwear</td>\n",
       "      <td>664729.64</td>\n",
       "      <td>1884159.0</td>\n",
       "      <td>0.352799</td>\n",
       "    </tr>\n",
       "    <tr>\n",
       "      <th>306</th>\n",
       "      <td>Wilmington</td>\n",
       "      <td>Men's Apparel</td>\n",
       "      <td>492641.58</td>\n",
       "      <td>1626774.0</td>\n",
       "      <td>0.302833</td>\n",
       "    </tr>\n",
       "  </tbody>\n",
       "</table>\n",
       "<p>312 rows × 5 columns</p>\n",
       "</div>"
      ],
      "text/plain": [
       "           City                    Product  Operating Profit  Total Sales  \\\n",
       "3        Albany            Women's Apparel        2343150.19    4779109.0   \n",
       "2        Albany      Men's Street Footwear        2649927.25    5773987.0   \n",
       "0        Albany              Men's Apparel        1354932.08    3873553.0   \n",
       "1        Albany    Men's Athletic Footwear        1329200.59    3829596.0   \n",
       "4        Albany  Women's Athletic Footwear         908094.68    2973011.0   \n",
       "..          ...                        ...               ...          ...   \n",
       "310  Wilmington  Women's Athletic Footwear         500967.12    1242580.0   \n",
       "311  Wilmington    Women's Street Footwear         605627.89    1502297.0   \n",
       "308  Wilmington      Men's Street Footwear        1244055.88    3522197.0   \n",
       "307  Wilmington    Men's Athletic Footwear         664729.64    1884159.0   \n",
       "306  Wilmington              Men's Apparel         492641.58    1626774.0   \n",
       "\n",
       "     Profit Margin  \n",
       "3         0.490290  \n",
       "2         0.458942  \n",
       "0         0.349791  \n",
       "1         0.347086  \n",
       "4         0.305446  \n",
       "..             ...  \n",
       "310       0.403167  \n",
       "311       0.403135  \n",
       "308       0.353205  \n",
       "307       0.352799  \n",
       "306       0.302833  \n",
       "\n",
       "[312 rows x 5 columns]"
      ]
     },
     "execution_count": 103,
     "metadata": {},
     "output_type": "execute_result"
    }
   ],
   "source": [
    "# Clasificación dentro de cada ubicación para encontrar los productos más rentables\n",
    "\n",
    "grouped_data.sort_values(by=['City', 'Profit Margin'], ascending=[True, False], inplace=True)\n",
    "grouped_data"
   ]
  },
  {
   "cell_type": "code",
   "execution_count": 104,
   "id": "52feb6a5-b098-4e12-84a0-6bdfcc58ca12",
   "metadata": {},
   "outputs": [
    {
     "data": {
      "text/html": [
       "<div>\n",
       "<style scoped>\n",
       "    .dataframe tbody tr th:only-of-type {\n",
       "        vertical-align: middle;\n",
       "    }\n",
       "\n",
       "    .dataframe tbody tr th {\n",
       "        vertical-align: top;\n",
       "    }\n",
       "\n",
       "    .dataframe thead th {\n",
       "        text-align: right;\n",
       "    }\n",
       "</style>\n",
       "<table border=\"1\" class=\"dataframe\">\n",
       "  <thead>\n",
       "    <tr style=\"text-align: right;\">\n",
       "      <th></th>\n",
       "      <th>City</th>\n",
       "      <th>Product</th>\n",
       "      <th>Operating Profit</th>\n",
       "      <th>Total Sales</th>\n",
       "      <th>Profit Margin</th>\n",
       "    </tr>\n",
       "  </thead>\n",
       "  <tbody>\n",
       "    <tr>\n",
       "      <th>3</th>\n",
       "      <td>Albany</td>\n",
       "      <td>Women's Apparel</td>\n",
       "      <td>2343150.19</td>\n",
       "      <td>4779109.0</td>\n",
       "      <td>0.490290</td>\n",
       "    </tr>\n",
       "    <tr>\n",
       "      <th>2</th>\n",
       "      <td>Albany</td>\n",
       "      <td>Men's Street Footwear</td>\n",
       "      <td>2649927.25</td>\n",
       "      <td>5773987.0</td>\n",
       "      <td>0.458942</td>\n",
       "    </tr>\n",
       "    <tr>\n",
       "      <th>0</th>\n",
       "      <td>Albany</td>\n",
       "      <td>Men's Apparel</td>\n",
       "      <td>1354932.08</td>\n",
       "      <td>3873553.0</td>\n",
       "      <td>0.349791</td>\n",
       "    </tr>\n",
       "    <tr>\n",
       "      <th>1</th>\n",
       "      <td>Albany</td>\n",
       "      <td>Men's Athletic Footwear</td>\n",
       "      <td>1329200.59</td>\n",
       "      <td>3829596.0</td>\n",
       "      <td>0.347086</td>\n",
       "    </tr>\n",
       "    <tr>\n",
       "      <th>4</th>\n",
       "      <td>Albany</td>\n",
       "      <td>Women's Athletic Footwear</td>\n",
       "      <td>908094.68</td>\n",
       "      <td>2973011.0</td>\n",
       "      <td>0.305446</td>\n",
       "    </tr>\n",
       "    <tr>\n",
       "      <th>...</th>\n",
       "      <td>...</td>\n",
       "      <td>...</td>\n",
       "      <td>...</td>\n",
       "      <td>...</td>\n",
       "      <td>...</td>\n",
       "    </tr>\n",
       "    <tr>\n",
       "      <th>309</th>\n",
       "      <td>Wilmington</td>\n",
       "      <td>Women's Apparel</td>\n",
       "      <td>1016327.95</td>\n",
       "      <td>2520405.0</td>\n",
       "      <td>0.403240</td>\n",
       "    </tr>\n",
       "    <tr>\n",
       "      <th>310</th>\n",
       "      <td>Wilmington</td>\n",
       "      <td>Women's Athletic Footwear</td>\n",
       "      <td>500967.12</td>\n",
       "      <td>1242580.0</td>\n",
       "      <td>0.403167</td>\n",
       "    </tr>\n",
       "    <tr>\n",
       "      <th>311</th>\n",
       "      <td>Wilmington</td>\n",
       "      <td>Women's Street Footwear</td>\n",
       "      <td>605627.89</td>\n",
       "      <td>1502297.0</td>\n",
       "      <td>0.403135</td>\n",
       "    </tr>\n",
       "    <tr>\n",
       "      <th>308</th>\n",
       "      <td>Wilmington</td>\n",
       "      <td>Men's Street Footwear</td>\n",
       "      <td>1244055.88</td>\n",
       "      <td>3522197.0</td>\n",
       "      <td>0.353205</td>\n",
       "    </tr>\n",
       "    <tr>\n",
       "      <th>307</th>\n",
       "      <td>Wilmington</td>\n",
       "      <td>Men's Athletic Footwear</td>\n",
       "      <td>664729.64</td>\n",
       "      <td>1884159.0</td>\n",
       "      <td>0.352799</td>\n",
       "    </tr>\n",
       "  </tbody>\n",
       "</table>\n",
       "<p>260 rows × 5 columns</p>\n",
       "</div>"
      ],
      "text/plain": [
       "           City                    Product  Operating Profit  Total Sales  \\\n",
       "3        Albany            Women's Apparel        2343150.19    4779109.0   \n",
       "2        Albany      Men's Street Footwear        2649927.25    5773987.0   \n",
       "0        Albany              Men's Apparel        1354932.08    3873553.0   \n",
       "1        Albany    Men's Athletic Footwear        1329200.59    3829596.0   \n",
       "4        Albany  Women's Athletic Footwear         908094.68    2973011.0   \n",
       "..          ...                        ...               ...          ...   \n",
       "309  Wilmington            Women's Apparel        1016327.95    2520405.0   \n",
       "310  Wilmington  Women's Athletic Footwear         500967.12    1242580.0   \n",
       "311  Wilmington    Women's Street Footwear         605627.89    1502297.0   \n",
       "308  Wilmington      Men's Street Footwear        1244055.88    3522197.0   \n",
       "307  Wilmington    Men's Athletic Footwear         664729.64    1884159.0   \n",
       "\n",
       "     Profit Margin  \n",
       "3         0.490290  \n",
       "2         0.458942  \n",
       "0         0.349791  \n",
       "1         0.347086  \n",
       "4         0.305446  \n",
       "..             ...  \n",
       "309       0.403240  \n",
       "310       0.403167  \n",
       "311       0.403135  \n",
       "308       0.353205  \n",
       "307       0.352799  \n",
       "\n",
       "[260 rows x 5 columns]"
      ]
     },
     "execution_count": 104,
     "metadata": {},
     "output_type": "execute_result"
    }
   ],
   "source": [
    "# Opcionalmente, muestra los 5 productos más rentables de cada ciudad.\n",
    "\n",
    "top_products_by_city = grouped_data.groupby('City').head(5)\n",
    "\n",
    "top_products_by_city"
   ]
  },
  {
   "cell_type": "code",
   "execution_count": 105,
   "id": "3aa4edeb-ba39-4d11-844b-f5574502cf6f",
   "metadata": {},
   "outputs": [
    {
     "name": "stdout",
     "output_type": "stream",
     "text": [
      "Best and Worst Performing Cities for Each Product:\n"
     ]
    },
    {
     "data": {
      "text/html": [
       "<div>\n",
       "<style scoped>\n",
       "    .dataframe tbody tr th:only-of-type {\n",
       "        vertical-align: middle;\n",
       "    }\n",
       "\n",
       "    .dataframe tbody tr th {\n",
       "        vertical-align: top;\n",
       "    }\n",
       "\n",
       "    .dataframe thead th {\n",
       "        text-align: right;\n",
       "    }\n",
       "</style>\n",
       "<table border=\"1\" class=\"dataframe\">\n",
       "  <thead>\n",
       "    <tr style=\"text-align: right;\">\n",
       "      <th></th>\n",
       "      <th>Product</th>\n",
       "      <th>City</th>\n",
       "      <th>Total Sales</th>\n",
       "    </tr>\n",
       "  </thead>\n",
       "  <tbody>\n",
       "    <tr>\n",
       "      <th>0</th>\n",
       "      <td>Men's Apparel</td>\n",
       "      <td>New York</td>\n",
       "      <td>6835166.0</td>\n",
       "    </tr>\n",
       "    <tr>\n",
       "      <th>1</th>\n",
       "      <td>Men's Apparel</td>\n",
       "      <td>Omaha</td>\n",
       "      <td>530197.0</td>\n",
       "    </tr>\n",
       "    <tr>\n",
       "      <th>2</th>\n",
       "      <td>Men's Athletic Footwear</td>\n",
       "      <td>New York</td>\n",
       "      <td>6301528.0</td>\n",
       "    </tr>\n",
       "    <tr>\n",
       "      <th>3</th>\n",
       "      <td>Men's Athletic Footwear</td>\n",
       "      <td>Omaha</td>\n",
       "      <td>942983.0</td>\n",
       "    </tr>\n",
       "    <tr>\n",
       "      <th>4</th>\n",
       "      <td>Men's Street Footwear</td>\n",
       "      <td>Charleston</td>\n",
       "      <td>9479502.0</td>\n",
       "    </tr>\n",
       "    <tr>\n",
       "      <th>5</th>\n",
       "      <td>Men's Street Footwear</td>\n",
       "      <td>Omaha</td>\n",
       "      <td>2131074.0</td>\n",
       "    </tr>\n",
       "    <tr>\n",
       "      <th>6</th>\n",
       "      <td>Women's Apparel</td>\n",
       "      <td>Charleston</td>\n",
       "      <td>8147789.0</td>\n",
       "    </tr>\n",
       "    <tr>\n",
       "      <th>7</th>\n",
       "      <td>Women's Apparel</td>\n",
       "      <td>Omaha</td>\n",
       "      <td>1202661.0</td>\n",
       "    </tr>\n",
       "    <tr>\n",
       "      <th>8</th>\n",
       "      <td>Women's Athletic Footwear</td>\n",
       "      <td>New York</td>\n",
       "      <td>5201048.0</td>\n",
       "    </tr>\n",
       "    <tr>\n",
       "      <th>9</th>\n",
       "      <td>Women's Athletic Footwear</td>\n",
       "      <td>Omaha</td>\n",
       "      <td>465677.0</td>\n",
       "    </tr>\n",
       "    <tr>\n",
       "      <th>10</th>\n",
       "      <td>Women's Street Footwear</td>\n",
       "      <td>San Francisco</td>\n",
       "      <td>5549840.0</td>\n",
       "    </tr>\n",
       "    <tr>\n",
       "      <th>11</th>\n",
       "      <td>Women's Street Footwear</td>\n",
       "      <td>Omaha</td>\n",
       "      <td>656446.0</td>\n",
       "    </tr>\n",
       "  </tbody>\n",
       "</table>\n",
       "</div>"
      ],
      "text/plain": [
       "                      Product           City  Total Sales\n",
       "0               Men's Apparel       New York    6835166.0\n",
       "1               Men's Apparel          Omaha     530197.0\n",
       "2     Men's Athletic Footwear       New York    6301528.0\n",
       "3     Men's Athletic Footwear          Omaha     942983.0\n",
       "4       Men's Street Footwear     Charleston    9479502.0\n",
       "5       Men's Street Footwear          Omaha    2131074.0\n",
       "6             Women's Apparel     Charleston    8147789.0\n",
       "7             Women's Apparel          Omaha    1202661.0\n",
       "8   Women's Athletic Footwear       New York    5201048.0\n",
       "9   Women's Athletic Footwear          Omaha     465677.0\n",
       "10    Women's Street Footwear  San Francisco    5549840.0\n",
       "11    Women's Street Footwear          Omaha     656446.0"
      ]
     },
     "execution_count": 105,
     "metadata": {},
     "output_type": "execute_result"
    }
   ],
   "source": [
    "# Agrupar datos por producto y ciudad y sumar las ventas totales\n",
    "grouped_data = data.groupby(['Product', 'City'])['Total Sales'].sum().reset_index()\n",
    "\n",
    "# Para cada producto, encuentre la ciudad donde hay mejor y peor desempeño\n",
    "best_worst_performing_cities = []\n",
    "\n",
    "for product in grouped_data['Product'].unique():\n",
    "    product_data = grouped_data[grouped_data['Product'] == product]\n",
    "    best_city = product_data[product_data['Total Sales'] == product_data['Total Sales'].max()]\n",
    "    worst_city = product_data[product_data['Total Sales'] == product_data['Total Sales'].min()]\n",
    "    best_worst_performing_cities.extend([best_city, worst_city])\n",
    "\n",
    "# Concatenar los resultados en un solo DataFrame\n",
    "best_worst_performing_cities_df = pd.concat(best_worst_performing_cities).reset_index(drop=True)\n",
    "\n",
    "# Mostrar los resultados\n",
    "print(\"Best and Worst Performing Cities for Each Product:\")\n",
    "best_worst_performing_cities_df"
   ]
  },
  {
   "cell_type": "markdown",
   "id": "7615b318-c1e1-4710-af5c-4deb1189d4b4",
   "metadata": {},
   "source": [
    "Analisis principal de los datos obtenidos:\n",
    "\n",
    "La popularidad y la rentabilidad del producto varían significativamente según la ciudad, lo que indica la necesidad de estrategias de marketing y ventas personalizadas en diferentes ubicaciones. Las tendencias contrastantes entre ciudades como Albany, Wilmington y Omaha resaltan las diversas preferencias de los consumidores, lo que subraya la importancia de un enfoque específico de la ubicación en las estrategias de ventas y marketing."
   ]
  },
  {
   "cell_type": "markdown",
   "id": "7ec790e6-4aa6-4226-b4a0-cdbc4c12def9",
   "metadata": {},
   "source": [
    "#### 7. Oportunidades de expansión del mercado: evaluar las tiendas con mejor y peor desempeño según su ubicación."
   ]
  },
  {
   "cell_type": "code",
   "execution_count": 106,
   "id": "28681a5f-2d1a-48f1-850b-c78687e7ae74",
   "metadata": {},
   "outputs": [
    {
     "name": "stdout",
     "output_type": "stream",
     "text": [
      "Store Performance by City:\n"
     ]
    },
    {
     "data": {
      "text/html": [
       "<div>\n",
       "<style scoped>\n",
       "    .dataframe tbody tr th:only-of-type {\n",
       "        vertical-align: middle;\n",
       "    }\n",
       "\n",
       "    .dataframe tbody tr th {\n",
       "        vertical-align: top;\n",
       "    }\n",
       "\n",
       "    .dataframe thead th {\n",
       "        text-align: right;\n",
       "    }\n",
       "</style>\n",
       "<table border=\"1\" class=\"dataframe\">\n",
       "  <thead>\n",
       "    <tr style=\"text-align: right;\">\n",
       "      <th></th>\n",
       "      <th>City</th>\n",
       "      <th>Retailer</th>\n",
       "      <th>Total Sales</th>\n",
       "      <th>Operating Profit</th>\n",
       "      <th>Profit Margin</th>\n",
       "    </tr>\n",
       "  </thead>\n",
       "  <tbody>\n",
       "    <tr>\n",
       "      <th>1</th>\n",
       "      <td>Albany</td>\n",
       "      <td>West Gear</td>\n",
       "      <td>20735165.0</td>\n",
       "      <td>8062399.80</td>\n",
       "      <td>0.388827</td>\n",
       "    </tr>\n",
       "    <tr>\n",
       "      <th>0</th>\n",
       "      <td>Albany</td>\n",
       "      <td>Kohl's</td>\n",
       "      <td>3692639.0</td>\n",
       "      <td>1367451.11</td>\n",
       "      <td>0.370318</td>\n",
       "    </tr>\n",
       "    <tr>\n",
       "      <th>2</th>\n",
       "      <td>Albuquerque</td>\n",
       "      <td>Kohl's</td>\n",
       "      <td>17065965.0</td>\n",
       "      <td>5783668.15</td>\n",
       "      <td>0.338901</td>\n",
       "    </tr>\n",
       "    <tr>\n",
       "      <th>3</th>\n",
       "      <td>Albuquerque</td>\n",
       "      <td>Sports Direct</td>\n",
       "      <td>2799051.0</td>\n",
       "      <td>954392.26</td>\n",
       "      <td>0.340970</td>\n",
       "    </tr>\n",
       "    <tr>\n",
       "      <th>4</th>\n",
       "      <td>Anchorage</td>\n",
       "      <td>Amazon</td>\n",
       "      <td>13365025.0</td>\n",
       "      <td>4143804.75</td>\n",
       "      <td>0.310048</td>\n",
       "    </tr>\n",
       "    <tr>\n",
       "      <th>...</th>\n",
       "      <td>...</td>\n",
       "      <td>...</td>\n",
       "      <td>...</td>\n",
       "      <td>...</td>\n",
       "      <td>...</td>\n",
       "    </tr>\n",
       "    <tr>\n",
       "      <th>103</th>\n",
       "      <td>St. Louis</td>\n",
       "      <td>West Gear</td>\n",
       "      <td>1701133.0</td>\n",
       "      <td>681457.25</td>\n",
       "      <td>0.400590</td>\n",
       "    </tr>\n",
       "    <tr>\n",
       "      <th>105</th>\n",
       "      <td>Wichita</td>\n",
       "      <td>Kohl's</td>\n",
       "      <td>6451914.0</td>\n",
       "      <td>2279774.62</td>\n",
       "      <td>0.353349</td>\n",
       "    </tr>\n",
       "    <tr>\n",
       "      <th>104</th>\n",
       "      <td>Wichita</td>\n",
       "      <td>Foot Locker</td>\n",
       "      <td>3520950.0</td>\n",
       "      <td>1230372.67</td>\n",
       "      <td>0.349443</td>\n",
       "    </tr>\n",
       "    <tr>\n",
       "      <th>106</th>\n",
       "      <td>Wilmington</td>\n",
       "      <td>Foot Locker</td>\n",
       "      <td>8387568.0</td>\n",
       "      <td>3077352.68</td>\n",
       "      <td>0.366895</td>\n",
       "    </tr>\n",
       "    <tr>\n",
       "      <th>107</th>\n",
       "      <td>Wilmington</td>\n",
       "      <td>Kohl's</td>\n",
       "      <td>3910844.0</td>\n",
       "      <td>1446997.38</td>\n",
       "      <td>0.369996</td>\n",
       "    </tr>\n",
       "  </tbody>\n",
       "</table>\n",
       "<p>108 rows × 5 columns</p>\n",
       "</div>"
      ],
      "text/plain": [
       "            City       Retailer  Total Sales  Operating Profit  Profit Margin\n",
       "1         Albany      West Gear   20735165.0        8062399.80       0.388827\n",
       "0         Albany         Kohl's    3692639.0        1367451.11       0.370318\n",
       "2    Albuquerque         Kohl's   17065965.0        5783668.15       0.338901\n",
       "3    Albuquerque  Sports Direct    2799051.0         954392.26       0.340970\n",
       "4      Anchorage         Amazon   13365025.0        4143804.75       0.310048\n",
       "..           ...            ...          ...               ...            ...\n",
       "103    St. Louis      West Gear    1701133.0         681457.25       0.400590\n",
       "105      Wichita         Kohl's    6451914.0        2279774.62       0.353349\n",
       "104      Wichita    Foot Locker    3520950.0        1230372.67       0.349443\n",
       "106   Wilmington    Foot Locker    8387568.0        3077352.68       0.366895\n",
       "107   Wilmington         Kohl's    3910844.0        1446997.38       0.369996\n",
       "\n",
       "[108 rows x 5 columns]"
      ]
     },
     "execution_count": 106,
     "metadata": {},
     "output_type": "execute_result"
    }
   ],
   "source": [
    "# Convertir el diccionario a un DataFrame, si aún no lo has hecho\n",
    "df = pd.DataFrame(data)\n",
    "\n",
    "# Agrupación de datos por ciudad y nombre de tienda\n",
    "grouped_data = df.groupby(['City', 'Retailer']).agg({\n",
    "    'Total Sales': 'sum',\n",
    "    'Operating Profit': 'sum'\n",
    "}).reset_index()\n",
    "\n",
    "# Calcular métricas de rendimiento\n",
    "grouped_data['Profit Margin'] = grouped_data['Operating Profit'] / grouped_data['Total Sales']\n",
    "\n",
    "# Clasificación por ventas totales y margen de beneficio\n",
    "grouped_data = grouped_data.sort_values(by=['City', 'Total Sales', 'Profit Margin'], ascending=[True, False, False])\n",
    "\n",
    "# Mostrando los datos agrupados\n",
    "print(\"Store Performance by City:\")\n",
    "grouped_data"
   ]
  },
  {
   "cell_type": "markdown",
   "id": "23582652-d3c8-4474-8ef1-7901e568afae",
   "metadata": {},
   "source": [
    "Análisis principal de los datos obtenidos\n",
    "\n",
    "Este análisis proporciona información valiosa sobre el desempeño de las tiendas minoristas en diferentes ciudades, destacando la importancia de la ubicación en las ventas y la rentabilidad. Los datos se pueden utilizar para identificar áreas de desempeño fuerte y débil, optimizar operaciones y elaborar estrategias para la expansión o mejora del mercado."
   ]
  },
  {
   "cell_type": "markdown",
   "id": "f306b2be-cfa3-4fa3-928f-d2ec49a09076",
   "metadata": {},
   "source": [
    "#### 8. Análisis de series temporales: investigue si ha habido una tendencia de ventas constante a lo largo del tiempo o alguna tendencia mensual notable."
   ]
  },
  {
   "cell_type": "markdown",
   "id": "9063e814-b523-475d-a98a-092788d7b7a9",
   "metadata": {},
   "source": [
    "El análisis de las tendencias de ventas a lo largo del tiempo, basado en los datos proporcionados, ofrece observaciones esclarecedoras.\n",
    "\n",
    "Inicialmente, el análisis de series de tiempo implica agrupar datos de ventas por mes y trazar estas cifras para evaluar visualmente las tendencias. La trama resultante, diseñada para brindar claridad y estética, revela patrones en las fluctuaciones de ventas mensuales. Además, se realiza un análisis numérico para determinar la estacionalidad y las tendencias generales de ventas. Esto implica calcular las diferencias en las ventas mes a mes y establecer un umbral para identificar cambios significativos. El resultado indica la presencia de estacionalidad en las ventas, ya que las variaciones superan el umbral predefinido."
   ]
  },
  {
   "cell_type": "code",
   "execution_count": 107,
   "id": "6d6e4256-3bf3-4a1a-bda4-fa9ef79775ac",
   "metadata": {},
   "outputs": [],
   "source": [
    "# Importamos el modulo datetime que nos permite trabajar con fechas\n",
    "\n",
    "import datetime"
   ]
  },
  {
   "cell_type": "code",
   "execution_count": 108,
   "id": "1b84db66-a071-4cd9-bd1c-a60458e80496",
   "metadata": {},
   "outputs": [],
   "source": [
    "# creamos 3 nuevas columnas en el DataFrame inicial, para extraer el año, el mes y dia\n",
    "\n",
    "data['Year'] = pd.DatetimeIndex(data['Invoice Date']).year\n",
    "data['Month'] = pd.DatetimeIndex(data['Invoice Date']).month\n",
    "data['Day'] = pd.DatetimeIndex(data['Invoice Date']).day"
   ]
  },
  {
   "cell_type": "code",
   "execution_count": 109,
   "id": "0f26fc03-2834-4b97-9b74-1c17094769c4",
   "metadata": {},
   "outputs": [
    {
     "name": "stdout",
     "output_type": "stream",
     "text": [
      "<class 'pandas.core.frame.DataFrame'>\n",
      "RangeIndex: 9648 entries, 0 to 9647\n",
      "Data columns (total 17 columns):\n",
      " #   Column            Non-Null Count  Dtype         \n",
      "---  ------            --------------  -----         \n",
      " 0   Retailer          9648 non-null   object        \n",
      " 1   Retailer ID       9648 non-null   int64         \n",
      " 2   Invoice Date      9648 non-null   datetime64[ns]\n",
      " 3   Region            9648 non-null   object        \n",
      " 4   State             9648 non-null   object        \n",
      " 5   City              9648 non-null   object        \n",
      " 6   Product           9648 non-null   object        \n",
      " 7   Price per Unit    9648 non-null   float64       \n",
      " 8   Units Sold        9648 non-null   float64       \n",
      " 9   Total Sales       9648 non-null   float64       \n",
      " 10  Operating Profit  9648 non-null   float64       \n",
      " 11  Operating Margin  9648 non-null   float64       \n",
      " 12  Sales Method      9648 non-null   object        \n",
      " 13  Price Range       9648 non-null   category      \n",
      " 14  Year              9648 non-null   int32         \n",
      " 15  Month             9648 non-null   int32         \n",
      " 16  Day               9648 non-null   int32         \n",
      "dtypes: category(1), datetime64[ns](1), float64(5), int32(3), int64(1), object(6)\n",
      "memory usage: 1.1+ MB\n"
     ]
    }
   ],
   "source": [
    "# Asi pasamos ahora a un DataFrame de 16 variables\n",
    "\n",
    "data.info()"
   ]
  },
  {
   "cell_type": "code",
   "execution_count": 110,
   "id": "5d47c28d-0486-429d-9b83-7118ccfe7e7b",
   "metadata": {},
   "outputs": [
    {
     "data": {
      "text/html": [
       "<div>\n",
       "<style scoped>\n",
       "    .dataframe tbody tr th:only-of-type {\n",
       "        vertical-align: middle;\n",
       "    }\n",
       "\n",
       "    .dataframe tbody tr th {\n",
       "        vertical-align: top;\n",
       "    }\n",
       "\n",
       "    .dataframe thead th {\n",
       "        text-align: right;\n",
       "    }\n",
       "</style>\n",
       "<table border=\"1\" class=\"dataframe\">\n",
       "  <thead>\n",
       "    <tr style=\"text-align: right;\">\n",
       "      <th></th>\n",
       "      <th>Retailer</th>\n",
       "      <th>Retailer ID</th>\n",
       "      <th>Invoice Date</th>\n",
       "      <th>Region</th>\n",
       "      <th>State</th>\n",
       "      <th>City</th>\n",
       "      <th>Product</th>\n",
       "      <th>Price per Unit</th>\n",
       "      <th>Units Sold</th>\n",
       "      <th>Total Sales</th>\n",
       "      <th>Operating Profit</th>\n",
       "      <th>Operating Margin</th>\n",
       "      <th>Sales Method</th>\n",
       "      <th>Price Range</th>\n",
       "      <th>Year</th>\n",
       "      <th>Month</th>\n",
       "      <th>Day</th>\n",
       "    </tr>\n",
       "  </thead>\n",
       "  <tbody>\n",
       "    <tr>\n",
       "      <th>0</th>\n",
       "      <td>Foot Locker</td>\n",
       "      <td>1185732</td>\n",
       "      <td>2020-01-01</td>\n",
       "      <td>Northeast</td>\n",
       "      <td>New York</td>\n",
       "      <td>New York</td>\n",
       "      <td>Men's Street Footwear</td>\n",
       "      <td>50.0</td>\n",
       "      <td>1200.0</td>\n",
       "      <td>600000.0</td>\n",
       "      <td>300000.0</td>\n",
       "      <td>0.50</td>\n",
       "      <td>In-store</td>\n",
       "      <td>(40, 50]</td>\n",
       "      <td>2020</td>\n",
       "      <td>1</td>\n",
       "      <td>1</td>\n",
       "    </tr>\n",
       "    <tr>\n",
       "      <th>1</th>\n",
       "      <td>Foot Locker</td>\n",
       "      <td>1185732</td>\n",
       "      <td>2020-01-02</td>\n",
       "      <td>Northeast</td>\n",
       "      <td>New York</td>\n",
       "      <td>New York</td>\n",
       "      <td>Men's Athletic Footwear</td>\n",
       "      <td>50.0</td>\n",
       "      <td>1000.0</td>\n",
       "      <td>500000.0</td>\n",
       "      <td>150000.0</td>\n",
       "      <td>0.30</td>\n",
       "      <td>In-store</td>\n",
       "      <td>(40, 50]</td>\n",
       "      <td>2020</td>\n",
       "      <td>1</td>\n",
       "      <td>2</td>\n",
       "    </tr>\n",
       "    <tr>\n",
       "      <th>2</th>\n",
       "      <td>Foot Locker</td>\n",
       "      <td>1185732</td>\n",
       "      <td>2020-01-03</td>\n",
       "      <td>Northeast</td>\n",
       "      <td>New York</td>\n",
       "      <td>New York</td>\n",
       "      <td>Women's Street Footwear</td>\n",
       "      <td>40.0</td>\n",
       "      <td>1000.0</td>\n",
       "      <td>400000.0</td>\n",
       "      <td>140000.0</td>\n",
       "      <td>0.35</td>\n",
       "      <td>In-store</td>\n",
       "      <td>(30, 40]</td>\n",
       "      <td>2020</td>\n",
       "      <td>1</td>\n",
       "      <td>3</td>\n",
       "    </tr>\n",
       "    <tr>\n",
       "      <th>3</th>\n",
       "      <td>Foot Locker</td>\n",
       "      <td>1185732</td>\n",
       "      <td>2020-01-04</td>\n",
       "      <td>Northeast</td>\n",
       "      <td>New York</td>\n",
       "      <td>New York</td>\n",
       "      <td>Women's Athletic Footwear</td>\n",
       "      <td>45.0</td>\n",
       "      <td>850.0</td>\n",
       "      <td>382500.0</td>\n",
       "      <td>133875.0</td>\n",
       "      <td>0.35</td>\n",
       "      <td>In-store</td>\n",
       "      <td>(40, 50]</td>\n",
       "      <td>2020</td>\n",
       "      <td>1</td>\n",
       "      <td>4</td>\n",
       "    </tr>\n",
       "    <tr>\n",
       "      <th>4</th>\n",
       "      <td>Foot Locker</td>\n",
       "      <td>1185732</td>\n",
       "      <td>2020-01-05</td>\n",
       "      <td>Northeast</td>\n",
       "      <td>New York</td>\n",
       "      <td>New York</td>\n",
       "      <td>Men's Apparel</td>\n",
       "      <td>60.0</td>\n",
       "      <td>900.0</td>\n",
       "      <td>540000.0</td>\n",
       "      <td>162000.0</td>\n",
       "      <td>0.30</td>\n",
       "      <td>In-store</td>\n",
       "      <td>(50, 60]</td>\n",
       "      <td>2020</td>\n",
       "      <td>1</td>\n",
       "      <td>5</td>\n",
       "    </tr>\n",
       "  </tbody>\n",
       "</table>\n",
       "</div>"
      ],
      "text/plain": [
       "      Retailer  Retailer ID Invoice Date     Region     State      City  \\\n",
       "0  Foot Locker      1185732   2020-01-01  Northeast  New York  New York   \n",
       "1  Foot Locker      1185732   2020-01-02  Northeast  New York  New York   \n",
       "2  Foot Locker      1185732   2020-01-03  Northeast  New York  New York   \n",
       "3  Foot Locker      1185732   2020-01-04  Northeast  New York  New York   \n",
       "4  Foot Locker      1185732   2020-01-05  Northeast  New York  New York   \n",
       "\n",
       "                     Product  Price per Unit  Units Sold  Total Sales  \\\n",
       "0      Men's Street Footwear            50.0      1200.0     600000.0   \n",
       "1    Men's Athletic Footwear            50.0      1000.0     500000.0   \n",
       "2    Women's Street Footwear            40.0      1000.0     400000.0   \n",
       "3  Women's Athletic Footwear            45.0       850.0     382500.0   \n",
       "4              Men's Apparel            60.0       900.0     540000.0   \n",
       "\n",
       "   Operating Profit  Operating Margin Sales Method Price Range  Year  Month  \\\n",
       "0          300000.0              0.50     In-store    (40, 50]  2020      1   \n",
       "1          150000.0              0.30     In-store    (40, 50]  2020      1   \n",
       "2          140000.0              0.35     In-store    (30, 40]  2020      1   \n",
       "3          133875.0              0.35     In-store    (40, 50]  2020      1   \n",
       "4          162000.0              0.30     In-store    (50, 60]  2020      1   \n",
       "\n",
       "   Day  \n",
       "0    1  \n",
       "1    2  \n",
       "2    3  \n",
       "3    4  \n",
       "4    5  "
      ]
     },
     "execution_count": 110,
     "metadata": {},
     "output_type": "execute_result"
    }
   ],
   "source": [
    "data.head()"
   ]
  },
  {
   "cell_type": "code",
   "execution_count": 111,
   "id": "5fcd680d-e738-4859-b803-f69104076199",
   "metadata": {},
   "outputs": [
    {
     "data": {
      "text/plain": [
       "Year\n",
       "2021    8346\n",
       "2020    1302\n",
       "Name: count, dtype: int64"
      ]
     },
     "execution_count": 111,
     "metadata": {},
     "output_type": "execute_result"
    }
   ],
   "source": [
    "# Visualizamos el numero de registros por año que tenemos\n",
    "\n",
    "data['Year'].value_counts()\n"
   ]
  },
  {
   "cell_type": "code",
   "execution_count": 112,
   "id": "9ae09042-ddd4-4411-abc6-7437cf775d10",
   "metadata": {},
   "outputs": [
    {
     "name": "stdout",
     "output_type": "stream",
     "text": [
      "      Total Sales  Units Sold\n",
      "Year                         \n",
      "2020  182080675.0    462349.0\n",
      "2021  717821450.0   2016512.0\n"
     ]
    }
   ],
   "source": [
    "# Agregando el Total Sales y Units Sold por cada año\n",
    "\n",
    "year_sales = data.groupby('Year').agg({'Total Sales': 'sum', 'Units Sold': 'sum'})\n",
    "print(year_sales)"
   ]
  },
  {
   "cell_type": "code",
   "execution_count": 113,
   "id": "1be3659f-52f2-4f86-a968-306d162456ed",
   "metadata": {},
   "outputs": [
    {
     "data": {
      "text/html": [
       "<div>\n",
       "<style scoped>\n",
       "    .dataframe tbody tr th:only-of-type {\n",
       "        vertical-align: middle;\n",
       "    }\n",
       "\n",
       "    .dataframe tbody tr th {\n",
       "        vertical-align: top;\n",
       "    }\n",
       "\n",
       "    .dataframe thead th {\n",
       "        text-align: right;\n",
       "    }\n",
       "</style>\n",
       "<table border=\"1\" class=\"dataframe\">\n",
       "  <thead>\n",
       "    <tr style=\"text-align: right;\">\n",
       "      <th></th>\n",
       "      <th></th>\n",
       "      <th>Total Sales</th>\n",
       "      <th>Units Sold</th>\n",
       "    </tr>\n",
       "    <tr>\n",
       "      <th>Year</th>\n",
       "      <th>Month</th>\n",
       "      <th></th>\n",
       "      <th></th>\n",
       "    </tr>\n",
       "  </thead>\n",
       "  <tbody>\n",
       "    <tr>\n",
       "      <th rowspan=\"12\" valign=\"top\">2020</th>\n",
       "      <th>1</th>\n",
       "      <td>16253746.0</td>\n",
       "      <td>48333.0</td>\n",
       "    </tr>\n",
       "    <tr>\n",
       "      <th>2</th>\n",
       "      <td>14997988.0</td>\n",
       "      <td>37846.0</td>\n",
       "    </tr>\n",
       "    <tr>\n",
       "      <th>3</th>\n",
       "      <td>17660577.0</td>\n",
       "      <td>46972.0</td>\n",
       "    </tr>\n",
       "    <tr>\n",
       "      <th>4</th>\n",
       "      <td>24607006.0</td>\n",
       "      <td>54709.0</td>\n",
       "    </tr>\n",
       "    <tr>\n",
       "      <th>5</th>\n",
       "      <td>16918014.0</td>\n",
       "      <td>35705.0</td>\n",
       "    </tr>\n",
       "    <tr>\n",
       "      <th>6</th>\n",
       "      <td>8829819.0</td>\n",
       "      <td>16269.0</td>\n",
       "    </tr>\n",
       "    <tr>\n",
       "      <th>7</th>\n",
       "      <td>17146013.0</td>\n",
       "      <td>38219.0</td>\n",
       "    </tr>\n",
       "    <tr>\n",
       "      <th>8</th>\n",
       "      <td>19877980.0</td>\n",
       "      <td>62307.0</td>\n",
       "    </tr>\n",
       "    <tr>\n",
       "      <th>9</th>\n",
       "      <td>18304436.0</td>\n",
       "      <td>46125.0</td>\n",
       "    </tr>\n",
       "    <tr>\n",
       "      <th>10</th>\n",
       "      <td>10836269.0</td>\n",
       "      <td>30167.0</td>\n",
       "    </tr>\n",
       "    <tr>\n",
       "      <th>11</th>\n",
       "      <td>8622300.0</td>\n",
       "      <td>25152.0</td>\n",
       "    </tr>\n",
       "    <tr>\n",
       "      <th>12</th>\n",
       "      <td>8026527.0</td>\n",
       "      <td>20545.0</td>\n",
       "    </tr>\n",
       "    <tr>\n",
       "      <th rowspan=\"12\" valign=\"top\">2021</th>\n",
       "      <th>1</th>\n",
       "      <td>55225396.0</td>\n",
       "      <td>179299.0</td>\n",
       "    </tr>\n",
       "    <tr>\n",
       "      <th>2</th>\n",
       "      <td>46102165.0</td>\n",
       "      <td>156113.0</td>\n",
       "    </tr>\n",
       "    <tr>\n",
       "      <th>3</th>\n",
       "      <td>39148532.0</td>\n",
       "      <td>143988.0</td>\n",
       "    </tr>\n",
       "    <tr>\n",
       "      <th>4</th>\n",
       "      <td>47732964.0</td>\n",
       "      <td>161717.0</td>\n",
       "    </tr>\n",
       "    <tr>\n",
       "      <th>5</th>\n",
       "      <td>63589681.0</td>\n",
       "      <td>178900.0</td>\n",
       "    </tr>\n",
       "    <tr>\n",
       "      <th>6</th>\n",
       "      <td>65917553.0</td>\n",
       "      <td>164745.0</td>\n",
       "    </tr>\n",
       "    <tr>\n",
       "      <th>7</th>\n",
       "      <td>78334681.0</td>\n",
       "      <td>180481.0</td>\n",
       "    </tr>\n",
       "    <tr>\n",
       "      <th>8</th>\n",
       "      <td>72288221.0</td>\n",
       "      <td>195414.0</td>\n",
       "    </tr>\n",
       "    <tr>\n",
       "      <th>9</th>\n",
       "      <td>59357023.0</td>\n",
       "      <td>182425.0</td>\n",
       "    </tr>\n",
       "    <tr>\n",
       "      <th>10</th>\n",
       "      <td>53074764.0</td>\n",
       "      <td>152834.0</td>\n",
       "    </tr>\n",
       "    <tr>\n",
       "      <th>11</th>\n",
       "      <td>59235040.0</td>\n",
       "      <td>149350.0</td>\n",
       "    </tr>\n",
       "    <tr>\n",
       "      <th>12</th>\n",
       "      <td>77815430.0</td>\n",
       "      <td>171246.0</td>\n",
       "    </tr>\n",
       "  </tbody>\n",
       "</table>\n",
       "</div>"
      ],
      "text/plain": [
       "            Total Sales  Units Sold\n",
       "Year Month                         \n",
       "2020 1       16253746.0     48333.0\n",
       "     2       14997988.0     37846.0\n",
       "     3       17660577.0     46972.0\n",
       "     4       24607006.0     54709.0\n",
       "     5       16918014.0     35705.0\n",
       "     6        8829819.0     16269.0\n",
       "     7       17146013.0     38219.0\n",
       "     8       19877980.0     62307.0\n",
       "     9       18304436.0     46125.0\n",
       "     10      10836269.0     30167.0\n",
       "     11       8622300.0     25152.0\n",
       "     12       8026527.0     20545.0\n",
       "2021 1       55225396.0    179299.0\n",
       "     2       46102165.0    156113.0\n",
       "     3       39148532.0    143988.0\n",
       "     4       47732964.0    161717.0\n",
       "     5       63589681.0    178900.0\n",
       "     6       65917553.0    164745.0\n",
       "     7       78334681.0    180481.0\n",
       "     8       72288221.0    195414.0\n",
       "     9       59357023.0    182425.0\n",
       "     10      53074764.0    152834.0\n",
       "     11      59235040.0    149350.0\n",
       "     12      77815430.0    171246.0"
      ]
     },
     "execution_count": 113,
     "metadata": {},
     "output_type": "execute_result"
    }
   ],
   "source": [
    "# Agregando el Total Sales y Units Sold por cada año y mes\n",
    "\n",
    "year_month_sales = data.groupby(['Year', 'Month']).agg({'Total Sales': 'sum', 'Units Sold': 'sum'})\n",
    "year_month_sales"
   ]
  },
  {
   "cell_type": "code",
   "execution_count": 114,
   "id": "a9e11ec4-ce4f-481e-9a17-7a6cb6cf2095",
   "metadata": {},
   "outputs": [
    {
     "data": {
      "image/png": "[encoded data removed]",
      "text/plain": [
       "<Figure size 1200x700 with 1 Axes>"
      ]
     },
     "metadata": {},
     "output_type": "display_data"
    }
   ],
   "source": [
    "# Group by month and calculate total sales for each month\n",
    "monthly_sales = data.groupby(data['Invoice Date'].dt.to_period('M'))['Total Sales'].sum()\n",
    "\n",
    "# Convert the index (which is of type 'Period') to DateTime objects\n",
    "monthly_sales.index = monthly_sales.index.to_timestamp()\n",
    "\n",
    "# Setting the style for a more aesthetic plot\n",
    "sns.set(style=\"whitegrid\")\n",
    "\n",
    "# Plotting the sales trends over time\n",
    "plt.figure(figsize=(12, 7))\n",
    "plt.plot(monthly_sales.index, monthly_sales.values, marker='o', color='teal', linestyle='-', linewidth=2)\n",
    "plt.xlabel('Month', fontsize=12)\n",
    "plt.ylabel('Total Sales', fontsize=12)\n",
    "plt.title('Monthly Sales Trends', fontsize=14)\n",
    "plt.xticks(rotation=0)\n",
    "plt.tick_params(axis='both', which='major', labelsize=10)\n",
    "plt.tight_layout()\n",
    "plt.show()"
   ]
  },
  {
   "cell_type": "code",
   "execution_count": 115,
   "id": "ed0cbeb6-6d97-4088-8caf-1e538d031a94",
   "metadata": {},
   "outputs": [
    {
     "name": "stdout",
     "output_type": "stream",
     "text": [
      "These sales follow a seasonality.\n",
      "There is no consistent trend in sales.\n"
     ]
    }
   ],
   "source": [
    "# Calculate the difference between consecutive months for trend analysis\n",
    "diff = monthly_sales.diff()\n",
    "\n",
    "# Define the threshold for significant change (seasonality)\n",
    "seasonality_threshold = 10000\n",
    "\n",
    "# Check for seasonality\n",
    "if (diff.abs() > seasonality_threshold).any():\n",
    "    print(\"These sales follow a seasonality.\")\n",
    "else:\n",
    "    print(\"These sales do not follow a seasonality.\")\n",
    "\n",
    "# Check for trend\n",
    "if (diff > 0).all():\n",
    "    print(\"There is an increasing trend in sales.\")\n",
    "elif (diff < 0).all():\n",
    "    print(\"There is a decreasing trend in sales.\")\n",
    "else:\n",
    "    print(\"There is no consistent trend in sales.\")"
   ]
  },
  {
   "cell_type": "markdown",
   "id": "03bd5a70-7134-40d2-b391-2cf6608cbf59",
   "metadata": {},
   "source": [
    "Resumen:\n",
    "\n",
    "Los datos de ventas mensuales de enero de 2020 a enero de 2022 muestran una variabilidad significativa con picos notables alrededor de abril de 2021 y aumentos constantes en diciembre y abril de cada año, lo que podría correlacionarse con temporadas navideñas y promociones de ventas. Los datos muestran una tendencia general al alza en las ventas durante el período de dos años, a pesar de algunas caídas notables, particularmente en julio de 2020 y octubre de 2021.\n",
    "\n",
    "Perspectivas:\n",
    "\n",
    "Los patrones estacionales observados, con picos y caídas en las ventas, resaltan la importancia de comprender el comportamiento de compra de los clientes y el impacto de la estacionalidad en las ventas. Al aprovechar estos conocimientos, las empresas pueden alinear sus esfuerzos de marketing, gestión de inventario y asignación de recursos con períodos anticipados de alta demanda, asegurando que se maximicen las oportunidades durante las temporadas altas. Este enfoque estratégico puede conducir a una mejor preparación para los aumentos repentinos de la demanda, una mayor satisfacción del cliente y un mejor desempeño comercial en general."
   ]
  },
  {
   "cell_type": "markdown",
   "id": "e84fe369-3b49-4105-8606-3f4785bbca9b",
   "metadata": {},
   "source": [
    "#### 9. Análisis predictivo de ventas: desarrolle un pronóstico de ventas mensuales."
   ]
  },
  {
   "cell_type": "markdown",
   "id": "357ae59f-c80f-41b5-9f16-73521fd68499",
   "metadata": {},
   "source": [
    "Utilizando el modelo ARIMA, pronosticé las ventas mensuales del próximo año analizando las tendencias históricas y la estacionalidad. Este método ofrece más que simples proyecciones futuras; es un activo estratégico para las empresas. Guía la asignación eficiente de recursos, anticipa las fluctuaciones del mercado y garantiza la adaptabilidad en un mercado dinámico."
   ]
  },
  {
   "cell_type": "markdown",
   "id": "6bf6d336-e08c-4e9c-bb8c-998fb6535ca9",
   "metadata": {},
   "source": [
    "Se ajusta un modelo ARIMA con parámetros (2,1,2) a los datos de ventas mensuales para pronosticar tendencias futuras. El modelo predice con éxito las ventas de los próximos 12 meses, combinando datos históricos con valores pronosticados. La visualización resultante, que incluye tanto las ventas reales como las previstas, proporciona una descripción clara del rendimiento de ventas esperado para el próximo año, lo que ayuda en la planificación estratégica y la asignación de recursos."
   ]
  },
  {
   "cell_type": "code",
   "execution_count": 116,
   "id": "b18251c1-39ca-48ae-8bd8-66f023c05b03",
   "metadata": {},
   "outputs": [
    {
     "ename": "NameError",
     "evalue": "name 'ARIMA' is not defined",
     "output_type": "error",
     "traceback": [
      "\u001b[1;31m---------------------------------------------------------------------------\u001b[0m",
      "\u001b[1;31mNameError\u001b[0m                                 Traceback (most recent call last)",
      "Cell \u001b[1;32mIn[116], line 2\u001b[0m\n\u001b[0;32m      1\u001b[0m \u001b[38;5;66;03m# Fit the ARIMA model to the data\u001b[39;00m\n\u001b[1;32m----> 2\u001b[0m model \u001b[38;5;241m=\u001b[39m ARIMA(monthly_sales, order\u001b[38;5;241m=\u001b[39m(\u001b[38;5;241m2\u001b[39m,\u001b[38;5;241m1\u001b[39m,\u001b[38;5;241m2\u001b[39m))  \u001b[38;5;66;03m# Order: (p, d, q)\u001b[39;00m\n\u001b[0;32m      3\u001b[0m model_fit \u001b[38;5;241m=\u001b[39m model\u001b[38;5;241m.\u001b[39mfit()\n\u001b[0;32m      5\u001b[0m \u001b[38;5;66;03m# Make predictions for the next 12 months\u001b[39;00m\n",
      "\u001b[1;31mNameError\u001b[0m: name 'ARIMA' is not defined"
     ]
    }
   ],
   "source": [
    "# Fit the ARIMA model to the data\n",
    "model = ARIMA(monthly_sales, order=(2,1,2))  # Order: (p, d, q)\n",
    "model_fit = model.fit()\n",
    "\n",
    "# Make predictions for the next 12 months\n",
    "forecast_steps = 12\n",
    "forecast = model_fit.forecast(steps=forecast_steps)\n",
    "\n",
    "#Visualize the actual sales data and the forecasted values for the next months.\n",
    "plt.figure(figsize=(12, 6))\n",
    "plt.plot(monthly_sales.index, monthly_sales.values, marker='o', label='Actual Sales')\n",
    "plt.plot(pd.date_range(start=monthly_sales.index[-1], periods=forecast_steps+1, freq='M')[1:], forecast, marker='o', label='Forecasted Sales')\n",
    "plt.xlabel('Date')\n",
    "plt.ylabel('Total Sales')\n",
    "plt.title('Monthly Sales Forecast')\n",
    "plt.legend()\n",
    "plt.xticks(rotation=0)\n",
    "plt.grid(True)\n",
    "plt.show()"
   ]
  },
  {
   "cell_type": "markdown",
   "id": "ed3cd13d-fb30-415a-bcf9-7c201e110bd8",
   "metadata": {},
   "source": [
    "## 5.- PRUEBA DE HIPOTESIS Y CONOCIMIENTOS"
   ]
  },
  {
   "cell_type": "markdown",
   "id": "c816df7c-775e-416f-b29a-2065768f13ef",
   "metadata": {},
   "source": [
    "- Pruebas estadísticas utilizadas : describa las pruebas estadísticas específicas realizadas, incluidas las hipótesis nulas y alternativas, las estadísticas de prueba y los grados de libertad."
   ]
  },
  {
   "cell_type": "markdown",
   "id": "5ccb3a14-0223-45db-9271-20b56ed803e8",
   "metadata": {},
   "source": [
    "- Hallazgos e ideas : Explique los resultados de las pruebas de hipótesis y sus implicaciones. Discuta cualquier relación o diferencia significativa y su relevancia para los objetivos del proyecto."
   ]
  },
  {
   "cell_type": "markdown",
   "id": "d8b61d5a-4496-4a1e-ab98-3e65f372c760",
   "metadata": {},
   "source": [
    "## 6.- INFORME FINAL Y PRESENTACION"
   ]
  },
  {
   "cell_type": "markdown",
   "id": "9621a2af-8901-4dd9-8ef8-387475754c97",
   "metadata": {},
   "source": [
    "- Hallazgos clave : resuma los hallazgos más críticos de manera concisa e impactante. Utilice imágenes y estadísticas clave para resaltar estos hallazgos. este trabajo EDA, tiene como objetivo a nivel personal, el aprendizaje con herramientas de programación del análisis de datos. Partiendo de un archivo de tamaño pequeño se analiza una colección de ventas de la marca Adidas en un área geográfica de USA, en un periodo de años 2020-2021 determinando las ciudades con mayores ventas y los retailer mejor posicionados."
   ]
  },
  {
   "cell_type": "markdown",
   "id": "d5d3addd-a501-45fa-ad5a-8cf29dc6a390",
   "metadata": {},
   "source": [
    "- Limitaciones del análisis : discuta las posibles limitaciones en los datos, la metodología o el análisis. Aborde cualquier fuente de sesgo o incertidumbre. El análisis basado en un pequeño archivo de periodo breve, limita la trayectoria anterior de otros años, al tener localización geográfica en USA, no permite analizar situación con otros países o incluso a nivel mundial. El estudio a nivel geolocalización no permite hacer otros estudios referenciales sobre situación de cada retail respecto a otros."
   ]
  },
  {
   "cell_type": "markdown",
   "id": "018d57d3-3df6-4c99-b5a4-b8f4ac937913",
   "metadata": {},
   "source": [
    "- Recomendaciones y próximos pasos : ofrezca recomendaciones prácticas basadas en sus conocimientos y proponga qué acciones o análisis deben seguir esta EDA. A recomendar un estudio más amplio con situación geolocal, con los datos que se tienen, la ampliación del estudio a nivel de ventas de otras ciudades de otros paises, el estudio comparativo con otras marcas, pudieran analizar situación por ciudades, paises entre la competencia."
   ]
  },
  {
   "cell_type": "markdown",
   "id": "d171dfb8-7527-4478-9082-59ad18cfa3e4",
   "metadata": {},
   "source": [
    "## 7.- REFERENCIAS Y FUENTES DE DATOS"
   ]
  },
  {
   "cell_type": "markdown",
   "id": "dd05d008-24ba-40ff-b228-208abab204fc",
   "metadata": {},
   "source": [
    "Prayag Padwal - https://prayagpadwal.github.io/"
   ]
  },
  {
   "cell_type": "markdown",
   "id": "96e9fc67-7300-4dfc-a71c-fdcf5c9f9f51",
   "metadata": {},
   "source": [
    "### Authors\n",
    "\n",
    "Fernando Valdepeñas - https://github.com/fvaldepe - https://administracionvirtualvif.wordpress.com/quienes-somos/ - https://www.linkedin.com/in/fvaldepe/"
   ]
  },
  {
   "cell_type": "markdown",
   "id": "9d07aad5-1025-47a0-b64c-5da744de6f81",
   "metadata": {},
   "source": [
    "### Other Contributors"
   ]
  },
  {
   "cell_type": "markdown",
   "id": "a2172fe6-7915-4ce7-99c0-173b11e7382b",
   "metadata": {},
   "source": []
  },
  {
   "cell_type": "markdown",
   "id": "ef7c7fc7-498a-4cf9-8c19-8a1f88e1ad46",
   "metadata": {},
   "source": [
    "### Change Log"
   ]
  },
  {
   "cell_type": "markdown",
   "id": "59fa8f3c-16f9-4e8c-9026-bdf03b229b07",
   "metadata": {},
   "source": [
    "| Date (YYYY-MM-DD) | Version | Changed By                                               | Change Description |\n",
    "| ----------------- | ------- | -------------------------------------------------------- | ------------------ |\n",
    "| 2024-04-30        | 0.1     | Fernando Valdepeñas   Created initial version of the lab |                    |\n",
    "|                   |         |                                                          |                    |"
   ]
  },
  {
   "cell_type": "markdown",
   "id": "c5b21776-ca6b-42f2-b6d1-ed45a9cebf20",
   "metadata": {},
   "source": [
    "## 8.- ARCHIVOS DEL PROYECTO"
   ]
  },
  {
   "cell_type": "markdown",
   "id": "cc2f1fad-12b8-4525-a625-3d83ab52d07a",
   "metadata": {},
   "source": [
    "- Archivos de código EDA : enumera y organiza los archivos de código, scripts o cuadernos utilizados para las diferentes etapas del análisis. Incluya comentarios y explicaciones en el código. Este Notebook ha sido editado con jupyter Version: 7.0.6 en un entorno de desarrollo con Anaconda.Navigator. Los comentarios del cuaderno han sido traducido de la fuente original de proyecto y en algunos casos se han introducido nuevos propios del autor fvaldepe."
   ]
  },
  {
   "cell_type": "markdown",
   "id": "26093262-8a1d-4afe-b188-651b9971d297",
   "metadata": {},
   "source": [
    "- Fuente de datos: para este proyecto, utilizamos el \"Conjunto de datos de ventas de Adidas\" de Kaggle (https://github.com/prayagpadwal/Adidas-Sales-Analysis), en formato XLSX\r\n",
    "- \r\n",
    "Tamaño de datos: el conjunto se compone de 9.648 registros con 13 variables, con un tamaño de 673 KB"
   ]
  },
  {
   "cell_type": "markdown",
   "id": "a8d81018-7185-4639-b64c-6175290b0f43",
   "metadata": {},
   "source": [
    "- Presentaciones o Informes : incluya las presentaciones, informes o documentos finales creados para comunicar y compartir los resultados de su proyecto EDA."
   ]
  },
  {
   "cell_type": "markdown",
   "id": "37004441-2855-4c08-a9ba-c801d6591d1f",
   "metadata": {},
   "source": [
    "## 9. PANEL DE POWER BI\n",
    "\n",
    "Dada las poderosas capacidades de Business Intelligence de Power BI, se elabora un panel intereactivo."
   ]
  },
  {
   "cell_type": "code",
   "execution_count": 117,
   "id": "33d15f21-3c4f-4261-94b6-2fb26115a1ba",
   "metadata": {},
   "outputs": [
    {
     "data": {
      "text/html": [
       "<img src=\"ADIDAS_Sales_DB.jpg\" width=\"1200\" height=\"1200\"/>"
      ],
      "text/plain": [
       "<IPython.core.display.Image object>"
      ]
     },
     "execution_count": 117,
     "metadata": {},
     "output_type": "execute_result"
    }
   ],
   "source": [
    "from IPython.display import Image\n",
    "Image(url= \"ADIDAS_Sales_DB.jpg\", width=1200, height=1200)"
   ]
  },
  {
   "cell_type": "code",
   "execution_count": null,
   "id": "5f575180-9acb-467d-93d7-0372ca47001b",
   "metadata": {},
   "outputs": [],
   "source": []
  }
 ],
 "metadata": {
  "kernelspec": {
   "display_name": "Python 3 (ipykernel)",
   "language": "python",
   "name": "python3"
  },
  "language_info": {
   "codemirror_mode": {
    "name": "ipython",
    "version": 3
   },
   "file_extension": ".py",
   "mimetype": "text/x-python",
   "name": "python",
   "nbconvert_exporter": "python",
   "pygments_lexer": "ipython3",
   "version": "3.11.5"
  }
 },
 "nbformat": 4,
 "nbformat_minor": 5
}
